{
  "nbformat": 4,
  "nbformat_minor": 0,
  "metadata": {
    "colab": {
      "provenance": [],
      "authorship_tag": "ABX9TyMVnJPvgarjU/TwV6B4t3vh",
      "include_colab_link": true
    },
    "kernelspec": {
      "name": "python3",
      "display_name": "Python 3"
    },
    "language_info": {
      "name": "python"
    }
  },
  "cells": [
    {
      "cell_type": "markdown",
      "metadata": {
        "id": "view-in-github",
        "colab_type": "text"
      },
      "source": [
        "<a href=\"https://colab.research.google.com/github/zahrahani/hani-s-first-python/blob/main/Week_13.ipynb\" target=\"_parent\"><img src=\"https://colab.research.google.com/assets/colab-badge.svg\" alt=\"Open In Colab\"/></a>"
      ]
    },
    {
      "cell_type": "markdown",
      "source": [
        "# Classes & Objects"
      ],
      "metadata": {
        "id": "GS0_KW9fcsXA"
      }
    },
    {
      "cell_type": "markdown",
      "source": [
        "membuat class"
      ],
      "metadata": {
        "id": "jFPE0D1fzr-r"
      }
    },
    {
      "cell_type": "code",
      "execution_count": 27,
      "metadata": {
        "id": "2FgnX1nuxAvI"
      },
      "outputs": [],
      "source": [
        "class Classku:\n",
        "  x = 12"
      ]
    },
    {
      "cell_type": "markdown",
      "source": [
        "membuat object"
      ],
      "metadata": {
        "id": "qHxDJgC1zvPi"
      }
    },
    {
      "cell_type": "code",
      "source": [
        "p1 = Classku()\n",
        "print(p1.x)"
      ],
      "metadata": {
        "id": "l_0c9tSCxFNk"
      },
      "execution_count": null,
      "outputs": []
    },
    {
      "cell_type": "markdown",
      "source": [
        "`__init__() ` function"
      ],
      "metadata": {
        "id": "KvsE5-juzzMi"
      }
    },
    {
      "cell_type": "code",
      "source": [
        "class Person:\n",
        "  def __init__(self, name, age):\n",
        "    self.name = name\n",
        "    self.age = age\n",
        "\n",
        "p1 = Person(\"Hani\", 18)\n",
        "\n",
        "print(p1.name)\n",
        "print(p1.age)"
      ],
      "metadata": {
        "id": "jJvawLvdxQyQ"
      },
      "execution_count": null,
      "outputs": []
    },
    {
      "cell_type": "markdown",
      "source": [
        "`__str__()` function"
      ],
      "metadata": {
        "id": "Iu1fSsRoz-A6"
      }
    },
    {
      "cell_type": "code",
      "source": [
        "class Person:\n",
        "  def __init__(self, name, age):\n",
        "    self.name = name\n",
        "    self.age = age\n",
        "\n",
        "p1 = Person(\"Hani\", 18)\n",
        "\n",
        "print(p1)"
      ],
      "metadata": {
        "id": "rm0PcWMyywLa"
      },
      "execution_count": null,
      "outputs": []
    },
    {
      "cell_type": "code",
      "source": [
        "class Person:\n",
        "  def __init__(self, name, age):\n",
        "    self.name = name\n",
        "    self.age = age\n",
        "\n",
        "  def __str__(self):\n",
        "    return f\"{self.name}({self.age})\"\n",
        "\n",
        "p1 = Person(\"Hani\", 18)\n",
        "\n",
        "print(p1)"
      ],
      "metadata": {
        "id": "aBbvSPfWxeuK"
      },
      "execution_count": null,
      "outputs": []
    },
    {
      "cell_type": "markdown",
      "source": [
        "object methods"
      ],
      "metadata": {
        "id": "g5ClP-i_0OHS"
      }
    },
    {
      "cell_type": "code",
      "source": [
        "class Person:\n",
        "  def __init__(self, name, age):\n",
        "    self.name = name\n",
        "    self.age = age\n",
        "\n",
        "  def myfunc(self):\n",
        "      print(\"Hellooww my name is \" + self.name)\n",
        "\n",
        "p1 = Person(\"Hani\", 18)\n",
        "p1.myfunc()"
      ],
      "metadata": {
        "id": "h2VpypTEzBnK"
      },
      "execution_count": null,
      "outputs": []
    },
    {
      "cell_type": "code",
      "source": [
        "class Person:\n",
        "  def __init__(self, name, age):\n",
        "    self.name = name\n",
        "    self.age = age\n",
        "\n",
        "  def myfunc(self):\n",
        "      print(f\"Hellooww my name is {self.name}\")\n",
        "\n",
        "p1 = Person(\"Hani\", 18)\n",
        "p1.myfunc()"
      ],
      "metadata": {
        "id": "TPLcqcOg063A"
      },
      "execution_count": null,
      "outputs": []
    },
    {
      "cell_type": "markdown",
      "source": [
        "self parameter"
      ],
      "metadata": {
        "id": "LNz2DTXs0TLh"
      }
    },
    {
      "cell_type": "code",
      "source": [
        "class Person:\n",
        "  def __init__(mysillyobject, name, age):\n",
        "    mysillyobject.name = name\n",
        "    mysillyobject.age = age\n",
        "\n",
        "  def myfunc(abc):\n",
        "      print(\"Hellooww my name is \" + abc.name)\n",
        "\n",
        "p1 = Person(\"Hani\", 18)\n",
        "p1.myfunc()"
      ],
      "metadata": {
        "id": "5ld_4TXVyTay"
      },
      "execution_count": null,
      "outputs": []
    },
    {
      "cell_type": "code",
      "source": [
        "class Person:\n",
        "  def __init__(mysillyobject, name, age):\n",
        "    mysillyobject.name = name\n",
        "    mysillyobject.age = age\n",
        "\n",
        "  def myfunc(abc):\n",
        "      print(f\"Helloo my name is {abc.name}\")\n",
        "\n",
        "p1 = Person(\"Hani\", 18)\n",
        "p1.myfunc()"
      ],
      "metadata": {
        "id": "V759cq0R04Wx"
      },
      "execution_count": null,
      "outputs": []
    },
    {
      "cell_type": "markdown",
      "source": [
        "modifikasi object properties"
      ],
      "metadata": {
        "id": "UPwfV2Gt1JES"
      }
    },
    {
      "cell_type": "code",
      "source": [
        "p1.age = 18"
      ],
      "metadata": {
        "id": "vSsqBBHx1Gfa"
      },
      "execution_count": 37,
      "outputs": []
    },
    {
      "cell_type": "markdown",
      "source": [
        "hapus object properties"
      ],
      "metadata": {
        "id": "wETo6IN51bwu"
      }
    },
    {
      "cell_type": "code",
      "source": [
        "del p1.age"
      ],
      "metadata": {
        "id": "-gIZRr2q1bDX"
      },
      "execution_count": 38,
      "outputs": []
    },
    {
      "cell_type": "markdown",
      "source": [
        "hapus object"
      ],
      "metadata": {
        "id": "VmLy-jOq1ina"
      }
    },
    {
      "cell_type": "code",
      "source": [
        "del p1"
      ],
      "metadata": {
        "id": "cTy3sd9w1glr"
      },
      "execution_count": 39,
      "outputs": []
    },
    {
      "cell_type": "markdown",
      "source": [
        "pass statement"
      ],
      "metadata": {
        "id": "jgIcF44s1oN6"
      }
    },
    {
      "cell_type": "code",
      "source": [
        "class Person:\n",
        "  pass"
      ],
      "metadata": {
        "id": "ZKifTMpH1h4q"
      },
      "execution_count": 40,
      "outputs": []
    },
    {
      "cell_type": "markdown",
      "source": [
        "membuat parent class"
      ],
      "metadata": {
        "id": "vsKgAWG91uqJ"
      }
    },
    {
      "cell_type": "code",
      "source": [
        "class Person:\n",
        "  def __init__(self, fname, lname):\n",
        "    self.firstname = fname\n",
        "    self.lastname = lname\n",
        "\n",
        "  def printname(self):\n",
        "      print(self.firstname, self.lastname)\n",
        "\n",
        "x = Person(\"Hani\", \"Hano\")\n",
        "x.printname()"
      ],
      "metadata": {
        "id": "wz3IstD_1s9q"
      },
      "execution_count": null,
      "outputs": []
    },
    {
      "cell_type": "markdown",
      "source": [
        "membuat Child Class"
      ],
      "metadata": {
        "id": "DgMOn72N2cvq"
      }
    },
    {
      "cell_type": "code",
      "source": [
        "class Student(Person):\n",
        "  pass"
      ],
      "metadata": {
        "id": "JzCln2tM2OgS"
      },
      "execution_count": 42,
      "outputs": []
    },
    {
      "cell_type": "code",
      "source": [
        "x = Student(\"Zahra\", \"Nibras\")\n",
        "x.printname()"
      ],
      "metadata": {
        "id": "hSCzkpPb2kD6"
      },
      "execution_count": null,
      "outputs": []
    },
    {
      "cell_type": "markdown",
      "source": [
        "menambah `__init__` function"
      ],
      "metadata": {
        "id": "Yz9Tq9dv2xvp"
      }
    },
    {
      "cell_type": "code",
      "source": [
        "class Student(Person):\n",
        "  def __init__(self, fname, lname):"
      ],
      "metadata": {
        "id": "EGJctiP32r4J"
      },
      "execution_count": null,
      "outputs": []
    },
    {
      "cell_type": "code",
      "source": [
        "class Student(Person):\n",
        "  def __init__(self, fname, lname):\n",
        "    Person.__init__(self, fname, lname)"
      ],
      "metadata": {
        "id": "Cu09Wous3Ak6"
      },
      "execution_count": null,
      "outputs": []
    },
    {
      "cell_type": "markdown",
      "source": [
        "memakai `super()` function"
      ],
      "metadata": {
        "id": "8DLl0Q6l3Q4C"
      }
    },
    {
      "cell_type": "code",
      "source": [
        "class Student(Person):\n",
        "  def __init__(self, fname, lname):\n",
        "    super().__init__(fname, lname)"
      ],
      "metadata": {
        "id": "e5EmSsEl3PO6"
      },
      "execution_count": null,
      "outputs": []
    },
    {
      "cell_type": "markdown",
      "source": [
        "menambah properties"
      ],
      "metadata": {
        "id": "9cmGCKho3m-i"
      }
    },
    {
      "cell_type": "code",
      "source": [
        "class Student(Person):\n",
        "  def __init__(self, fname, lname):\n",
        "    super().__init__(fname, lname)\n",
        "    self.graduationyear = 2024"
      ],
      "metadata": {
        "id": "AFZWdTq23k6C"
      },
      "execution_count": null,
      "outputs": []
    },
    {
      "cell_type": "code",
      "source": [
        "class Student(Person):\n",
        "  def __init__(self, fname, lname, year):\n",
        "    super().__init__(fname, lname)\n",
        "    self.graduationyear = year\n",
        "\n",
        "x = Student(\"Zahra\", \"Hani\", 2024)"
      ],
      "metadata": {
        "id": "GrK1Od1X36tq"
      },
      "execution_count": null,
      "outputs": []
    },
    {
      "cell_type": "markdown",
      "source": [
        "menambah methods"
      ],
      "metadata": {
        "id": "Cur2S0vt4Ql5"
      }
    },
    {
      "cell_type": "code",
      "source": [
        "class Student(Person):\n",
        "  def __init__(self, fname, lname, year):\n",
        "    super().__init__(fname, lname)\n",
        "    self.graduationyear = year\n",
        "\n",
        "  def welcome(self):\n",
        "      print(\"Welcome\", self.firstname, self.lastname, \"to the class of\", self.graduation)"
      ],
      "metadata": {
        "id": "3Yfjm8R04F06"
      },
      "execution_count": null,
      "outputs": []
    },
    {
      "cell_type": "markdown",
      "source": [
        "iterator VS iterable"
      ],
      "metadata": {
        "id": "Z8Btz_ls6SUy"
      }
    },
    {
      "cell_type": "code",
      "source": [
        "mytuple = (\"apple\", \"banana\", \"cherry\")\n",
        "myit = iter(mytuple)\n",
        "\n",
        "print(next(myit))\n",
        "print(next(myit))\n",
        "print(next(myit))"
      ],
      "metadata": {
        "id": "39lsjDkK5YPS"
      },
      "execution_count": null,
      "outputs": []
    },
    {
      "cell_type": "code",
      "source": [
        "mystr = \"zahra nibras\"\n",
        "myit = iter(mystr)\n",
        "\n",
        "print(next(myit))\n",
        "print(next(myit))\n",
        "print(next(myit))\n",
        "print(next(myit))\n",
        "print(next(myit))\n",
        "print(next(myit))\n",
        "print(next(myit))\n",
        "print(next(myit))"
      ],
      "metadata": {
        "id": "PtYFG8ii6n9C"
      },
      "execution_count": null,
      "outputs": []
    },
    {
      "cell_type": "markdown",
      "source": [
        "looping trough an iterator"
      ],
      "metadata": {
        "id": "b_Rpkx6I65Ep"
      }
    },
    {
      "cell_type": "code",
      "source": [
        "mytuple = (\"apple\", \"banana\", \"cherry\")\n",
        "\n",
        "for x in mytuple:\n",
        "  print(x)"
      ],
      "metadata": {
        "id": "gw_BSjdu63iJ"
      },
      "execution_count": null,
      "outputs": []
    },
    {
      "cell_type": "code",
      "source": [
        "mystr = \"banana\"\n",
        "\n",
        "for x in mystr:\n",
        "  print(x)"
      ],
      "metadata": {
        "id": "ejn_06zT7FkY"
      },
      "execution_count": null,
      "outputs": []
    },
    {
      "cell_type": "markdown",
      "source": [
        "membuat iterator"
      ],
      "metadata": {
        "id": "SjJkxnQk7NI5"
      }
    },
    {
      "cell_type": "code",
      "source": [
        "class MyNumbers:\n",
        "  def __iter__(self):\n",
        "    self.a = 1\n",
        "    return self\n",
        "\n",
        "  def __next__(self):\n",
        "    x = self.a\n",
        "    self.a += 1\n",
        "    return x\n",
        "\n",
        "myclass = MyNumbers()\n",
        "myiter = iter(myclass)\n",
        "\n",
        "print(next(myiter))\n",
        "print(next(myiter))\n",
        "print(next(myiter))\n",
        "print(next(myiter))\n",
        "print(next(myiter))"
      ],
      "metadata": {
        "id": "NTiTuDSG7K-A"
      },
      "execution_count": null,
      "outputs": []
    },
    {
      "cell_type": "markdown",
      "source": [
        "stop iteration"
      ],
      "metadata": {
        "id": "O6qoZukQ71eZ"
      }
    },
    {
      "cell_type": "code",
      "source": [
        "class MyNumbers:\n",
        "  def __iter__(self):\n",
        "    self.a = 1\n",
        "    return self\n",
        "\n",
        "  def __next__(self):\n",
        "    if self.a <= 20:\n",
        "       x = self.a\n",
        "       self.a += 1\n",
        "       return x\n",
        "    else:\n",
        "       raise StopIteration\n",
        "\n",
        "myclass = MyNumbers()\n",
        "myiter = iter(myclass)\n",
        "\n",
        "for x in myiter:\n",
        "  print(x)"
      ],
      "metadata": {
        "id": "hwjoftng7m5r"
      },
      "execution_count": null,
      "outputs": []
    },
    {
      "cell_type": "markdown",
      "source": [
        "function polymorphism"
      ],
      "metadata": {
        "id": "MnCwSD6-98Yh"
      }
    },
    {
      "cell_type": "markdown",
      "source": [
        "- String"
      ],
      "metadata": {
        "id": "HoSmFpco9_Bh"
      }
    },
    {
      "cell_type": "code",
      "source": [
        "x = \"Hello World!\"\n",
        "\n",
        "print(len(x))"
      ],
      "metadata": {
        "id": "MDyXUCzD8mCD"
      },
      "execution_count": null,
      "outputs": []
    },
    {
      "cell_type": "markdown",
      "source": [
        "- tuple"
      ],
      "metadata": {
        "id": "vbESSUn0-AgZ"
      }
    },
    {
      "cell_type": "code",
      "source": [
        "mytuple = (\"apple\", \"banana\", \"cherry\")\n",
        "\n",
        "print(len(mytuple))"
      ],
      "metadata": {
        "id": "3oi7QiU394xy"
      },
      "execution_count": null,
      "outputs": []
    },
    {
      "cell_type": "markdown",
      "source": [
        "- dictionary"
      ],
      "metadata": {
        "id": "cJAuXt9R-O8y"
      }
    },
    {
      "cell_type": "code",
      "source": [
        "thisdict = {\n",
        "    \"brand\" : \"Ford\",\n",
        "    \"model\" : \"Mustang\",\n",
        "    \"year\" : 1964\n",
        "}\n",
        "\n",
        "print(len(thisdict))"
      ],
      "metadata": {
        "id": "ssm4YOdI-MxC"
      },
      "execution_count": null,
      "outputs": []
    },
    {
      "cell_type": "markdown",
      "source": [
        "# Class Polymorphism"
      ],
      "metadata": {
        "id": "iqWBWcKm-kHa"
      }
    },
    {
      "cell_type": "code",
      "source": [
        "class Car:\n",
        "  def __init__(self, brand, model):\n",
        "    self.brand = brand\n",
        "    self.model = model\n",
        "\n",
        "  def move(self):\n",
        "    print(\"Drive!\")\n",
        "\n",
        "class Boat:\n",
        "  def __init__(self, brand, model):\n",
        "    self.brand = brand\n",
        "    self.model = model\n",
        "\n",
        "  def move(self):\n",
        "    print(\"Sail!\")\n",
        "\n",
        "class Plane:\n",
        "  def __init__(self, brand, model):\n",
        "    self.brand = brand\n",
        "    self.model = model\n",
        "\n",
        "  def move(self):\n",
        "    print(\"Fly!\")\n",
        "\n",
        "car1 = Car(\"Ford\", \"Mustang\")       #Create a Car class\n",
        "boat1 = Boat(\"Ibiza\", \"Touring 20\") #Create a Boat class\n",
        "plane1 = Plane(\"Boeing\", \"747\")     #Create a Plane class\n",
        "\n",
        "for x in (car1, boat1, plane1):\n",
        "  x.move()"
      ],
      "metadata": {
        "id": "PUjfaSAb-ivK"
      },
      "execution_count": null,
      "outputs": []
    },
    {
      "cell_type": "markdown",
      "source": [
        "inheritance class polymorphism"
      ],
      "metadata": {
        "id": "X2YQqF9X-t16"
      }
    },
    {
      "cell_type": "code",
      "source": [
        "class Vehicle:\n",
        "  def __init__(self, brand, model):\n",
        "    self.brand = brand\n",
        "    self.model = model\n",
        "\n",
        "  def move(self):\n",
        "    print(\"Move!\")\n",
        "\n",
        "class Car(Vehicle):\n",
        "  pass\n",
        "\n",
        "class Boat(Vehicle):\n",
        "  def move(self):\n",
        "    print(\"Sail!\")\n",
        "\n",
        "class Plane(Vehicle):\n",
        "  def move(self):\n",
        "    print(\"Fly!\")\n",
        "\n",
        "car1 = Car(\"Ford\", \"Mustang\") #Create a Car object\n",
        "boat1 = Boat(\"Ibiza\", \"Touring 20\") #Create a Boat object\n",
        "plane1 = Plane(\"Boeing\", \"747\") #Create a Plane object\n",
        "\n",
        "for x in (car1, boat1, plane1):\n",
        "  print(x.brand)\n",
        "  print(x.model)\n",
        "  x.move()"
      ],
      "metadata": {
        "id": "FK48MRfh-qRK"
      },
      "execution_count": null,
      "outputs": []
    },
    {
      "cell_type": "markdown",
      "source": [
        "# Exercise"
      ],
      "metadata": {
        "id": "bJvWo1QG-7lB"
      }
    },
    {
      "cell_type": "markdown",
      "source": [
        "\n",
        "\n",
        "```\n",
        "\"WeeklyExercise1\"\n",
        "Seorang penjual alat tulis menjual 10 bolpoint, 10 pensil dan 10 penghapus.\n",
        "1 biji bolpoint harganya Rp. 2000,\n",
        "1 biji pensil harganya Rp. 1.000, dan\n",
        "1 penghapus harganya Rp. 500.\n",
        "\n",
        "\n",
        "Gunakanlah objek untuk menyelesaikan soal dibawah ini!\n",
        "- Buatlah method untuk memasukkan (setter) nama, stok, harga satuan, dan harga (stok x harga satuan) alat tulis tersebut!\n",
        "- Buatlah method untuk menampilkan (getter) nama, stok, harga satuan, dan harga (stok x harga satuan) alat tulis tersebut!\n",
        "- Buatlah method Total Harga (setter getter) untuk mengelola transaksi penjualan!\n",
        "```\n",
        "\n"
      ],
      "metadata": {
        "id": "7ieROqMb0t3i"
      }
    },
    {
      "cell_type": "code",
      "source": [
        "# class untuk mengolah data stok item yang tersedia\n",
        "# dan mengelola transaksi penjualan item\n",
        "\n",
        "class AlatTulis:\n",
        "  def __init__(self, nama, stok, hargasatuan):\n",
        "      self.nama = nama\n",
        "      self.stok = stok\n",
        "      self.hargasatuan = hargasatuan\n",
        "\n",
        "  # setter - menambahkan nilai object\n",
        "  def set_nama(self, nama):\n",
        "      self.nama = nama\n",
        "\n",
        "  def set_stok(self, stok):\n",
        "      self.stok = stok\n",
        "\n",
        "  def set_hargasatuan(self, hargasatuan):\n",
        "      self.hargasatuan = hargasatuan\n",
        "\n",
        "  def set_hargastok(self, hargastok):\n",
        "      self.hargastok = self.stok * self.hargasatuan\n",
        "\n",
        "  # getter - mengambil/menampilkan nilai object\n",
        "  def get_nama(self):\n",
        "      return self.nama\n",
        "\n",
        "  def get_stok(self):\n",
        "      return self.stok\n",
        "\n",
        "  def get_hargasatuan(self):\n",
        "      return self.hargasatuan\n",
        "\n",
        "  # harga total dari stok yang tersedia\n",
        "  def get_hargastok(self):\n",
        "      return self.stok * self.hargasatuan\n",
        "\n",
        "  # getter setter\n",
        "  # menghitung total harga berdasarkan banyaknya item yang terjual\n",
        "  def total_harga(self, itemterjual):\n",
        "      # cek ketersediaan stok\n",
        "      if itemterjual <= self.stok:\n",
        "         total_harga = itemterjual * self.hargasatuan\n",
        "         return total_harga\n",
        "      else:\n",
        "         return \"ERROR: Stok isn't Available\"\n",
        "\n",
        "# menampilkan informasi produk tersedia\n",
        "print(\"------ Ready Stock ------\")\n",
        "print(\"-\" * 25)\n",
        "def tampilan(produk):\n",
        "    print(f\"Nama         : {produk.get_nama()}\")\n",
        "    print(f\"Stok         : {produk.get_stok()}\")\n",
        "    print(f\"Harga Satuan : {produk.get_hargasatuan()}\")\n",
        "    print(f\"Harga Total  : {produk.get_hargastok()}\")\n",
        "    print(\"-\" * 25)\n",
        "\n",
        "# program utama\n",
        "if __name__ == \"__main__\":\n",
        "   # membuat object dari class AlatTulis\n",
        "   bolpoint = AlatTulis(\"Bolpoint\", 10, 2000)\n",
        "   pensil = AlatTulis(\"Pensil\", 10, 1000)\n",
        "   penghapus = AlatTulis(\"Penghapus\", 10, 500)\n",
        "\n",
        "   for produk in [bolpoint, pensil, penghapus]:\n",
        "       tampilan(produk)\n",
        "\n",
        "   # hanya tampilan\n",
        "   print(\"\\n-------Harga Total-------\")\n",
        "   print(\"-\" * 25)\n",
        "\n",
        "   # input item & banyak item\n",
        "   namaitem = input(\"Nama Item   : \")\n",
        "   itemterjual = int(input(\"Jumlah Item : \"))\n",
        "\n",
        "   # kondisi pengecekan namaitem\n",
        "   if namaitem.lower() == \"bolpoint\":\n",
        "      namaitem = bolpoint\n",
        "   elif namaitem.lower() == \"pensil\":\n",
        "        namaitem = pensil\n",
        "   elif namaitem.lower() == \"penghapus\":\n",
        "        namaitem = penghapus\n",
        "   else:\n",
        "      print(\"ERROR: Item's not found\")\n",
        "\n",
        "   # total harga yang harus di bayar\n",
        "   # jika nama item ditemukan & jumlah item <= stok\n",
        "   if namaitem and itemterjual:\n",
        "      total = namaitem.total_harga(itemterjual)\n",
        "      print(f\"Harus Dibayar : Rp {total}\")\n",
        "      print(\"-\" * 25)"
      ],
      "metadata": {
        "id": "DAf92r3u3pQl"
      },
      "execution_count": null,
      "outputs": []
    }
  ]
}