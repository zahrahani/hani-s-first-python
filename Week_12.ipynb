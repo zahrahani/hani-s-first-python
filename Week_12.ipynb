{
  "cells": [
    {
      "cell_type": "markdown",
      "metadata": {
        "id": "view-in-github",
        "colab_type": "text"
      },
      "source": [
        "<a href=\"https://colab.research.google.com/github/zahrahani/hani-s-first-python/blob/main/Week_12.ipynb\" target=\"_parent\"><img src=\"https://colab.research.google.com/assets/colab-badge.svg\" alt=\"Open In Colab\"/></a>"
      ]
    },
    {
      "cell_type": "markdown",
      "metadata": {
        "id": "tsbfJ60hLayQ"
      },
      "source": [
        "# Try-Exception"
      ]
    },
    {
      "cell_type": "markdown",
      "metadata": {
        "id": "1fNv4od6DPI_"
      },
      "source": [
        "**Exception Handling**"
      ]
    },
    {
      "cell_type": "code",
      "execution_count": null,
      "metadata": {
        "colab": {
          "base_uri": "https://localhost:8080/"
        },
        "id": "GckcmDrfrXZj",
        "outputId": "970a7b8a-252a-4de9-fdab-f1664112d162"
      },
      "outputs": [
        {
          "name": "stdout",
          "output_type": "stream",
          "text": [
            "variable x isn't defined\n"
          ]
        }
      ],
      "source": [
        "try:\n",
        "   print(x)\n",
        "except:\n",
        "   print(\"variable x isn't defined\")"
      ]
    },
    {
      "cell_type": "code",
      "execution_count": null,
      "metadata": {
        "id": "Qpw04uIsJBC1"
      },
      "outputs": [],
      "source": [
        "print(x)"
      ]
    },
    {
      "cell_type": "code",
      "execution_count": null,
      "metadata": {
        "id": "LxOJsD7bJhND"
      },
      "outputs": [],
      "source": [
        "print(x)\n",
        "except:\n",
        "   print(\"variable x isn't defined\")"
      ]
    },
    {
      "cell_type": "markdown",
      "metadata": {
        "id": "RBRbBNJHNay7"
      },
      "source": [
        "**Many Exceptions**"
      ]
    },
    {
      "cell_type": "code",
      "source": [
        "try:\n",
        "   print(x)\n",
        "except NameError:\n",
        "   print(\"variable x isn't defined\")\n",
        "except:\n",
        "   print(\"something else went wrong\")"
      ],
      "metadata": {
        "colab": {
          "base_uri": "https://localhost:8080/"
        },
        "id": "bpPbs2KXbU6Z",
        "outputId": "0d33b61d-73c3-405b-8fbf-af445f0514b7"
      },
      "execution_count": null,
      "outputs": [
        {
          "output_type": "stream",
          "name": "stdout",
          "text": [
            "something else went wrong\n"
          ]
        }
      ]
    },
    {
      "cell_type": "code",
      "source": [
        "try:\n",
        "   x = 15/0\n",
        "   print(x)\n",
        "except NameError:\n",
        "   print(\"variable x isn't defined\")\n",
        "except:\n",
        "   print(\"something else went wrong\")"
      ],
      "metadata": {
        "colab": {
          "base_uri": "https://localhost:8080/"
        },
        "id": "rMdsoUBcDKpM",
        "outputId": "93237411-7fa2-4503-99ea-3e54eb3fe997"
      },
      "execution_count": null,
      "outputs": [
        {
          "output_type": "stream",
          "name": "stdout",
          "text": [
            "something else went wrong\n"
          ]
        }
      ]
    },
    {
      "cell_type": "markdown",
      "source": [
        "**Else**"
      ],
      "metadata": {
        "id": "sG_RKSQbvhwp"
      }
    },
    {
      "cell_type": "code",
      "execution_count": null,
      "metadata": {
        "colab": {
          "base_uri": "https://localhost:8080/"
        },
        "id": "PG8xIANQsT9h",
        "outputId": "891b66b4-efc7-4c4f-8a72-7212ea569884"
      },
      "outputs": [
        {
          "output_type": "stream",
          "name": "stdout",
          "text": [
            "hello!\n",
            "nothing went wrong\n"
          ]
        }
      ],
      "source": [
        "try:\n",
        "   print(\"hello!\")\n",
        "except:\n",
        "   print(\"something else went wrong\")\n",
        "else:\n",
        "   print(\"nothing went wrong\")"
      ]
    },
    {
      "cell_type": "code",
      "source": [
        "try:\n",
        "   print(\"hello!\")\n",
        "else:\n",
        "   print(\"nothing went wrong\")"
      ],
      "metadata": {
        "id": "_CaurL4cH1Bh"
      },
      "execution_count": null,
      "outputs": []
    },
    {
      "cell_type": "markdown",
      "source": [
        "**Finally**"
      ],
      "metadata": {
        "id": "Bl0EQYfHQMoo"
      }
    },
    {
      "cell_type": "code",
      "execution_count": null,
      "metadata": {
        "colab": {
          "base_uri": "https://localhost:8080/"
        },
        "id": "CGX_TzkdsyfE",
        "outputId": "496cbe31-5a01-4eae-c363-ebfb3a72a617"
      },
      "outputs": [
        {
          "name": "stdout",
          "output_type": "stream",
          "text": [
            "something went wrong\n",
            "the 'try except' is finished\n"
          ]
        }
      ],
      "source": [
        "try:\n",
        "   print(x)\n",
        "except:\n",
        "   print(\"something went wrong\")\n",
        "finally:\n",
        "   print(\"the 'try except' is finished\")"
      ]
    },
    {
      "cell_type": "code",
      "source": [
        "try:\n",
        "   print(\"hello!\")\n",
        "except:\n",
        "   print(\"something went wrong\")\n",
        "else:\n",
        "   print(\"nothing went wrong\")\n",
        "finally:\n",
        "   print(\"execution completed\")"
      ],
      "metadata": {
        "colab": {
          "base_uri": "https://localhost:8080/"
        },
        "id": "6VaN-cjjSYr_",
        "outputId": "2ab38cca-0556-4a29-a6b3-22fd9d6c4c2b"
      },
      "execution_count": null,
      "outputs": [
        {
          "output_type": "stream",
          "name": "stdout",
          "text": [
            "hello!\n",
            "nothing went wrong\n",
            "execution completed\n"
          ]
        }
      ]
    },
    {
      "cell_type": "code",
      "execution_count": null,
      "metadata": {
        "colab": {
          "base_uri": "https://localhost:8080/"
        },
        "id": "Z25XnlsytFlW",
        "outputId": "48bbc40d-b0b9-4b76-a8d2-9234a01ef885"
      },
      "outputs": [
        {
          "output_type": "stream",
          "name": "stdout",
          "text": [
            "something went wrong when writing to the file\n"
          ]
        }
      ],
      "source": [
        "# program untuk membuka dan menulis file\n",
        "# ke file yang tidak bisa di edit\n",
        "\n",
        "try:\n",
        "   f = open(\"demofile.txt\")\n",
        "   try:\n",
        "      f.write(\"lorem ipsum\")\n",
        "   except:\n",
        "      print(\"something went wrong when writing to the file\")\n",
        "   finally:\n",
        "      f.close()\n",
        "except:\n",
        "   print(\"something went wrong when opening the file\")"
      ]
    },
    {
      "cell_type": "markdown",
      "source": [
        "**Raise an Exception**"
      ],
      "metadata": {
        "id": "3aX_xIXxSymj"
      }
    },
    {
      "cell_type": "code",
      "execution_count": null,
      "metadata": {
        "id": "sfMj0dc0twIf"
      },
      "outputs": [],
      "source": [
        "x = -1\n",
        "\n",
        "if x < 0:\n",
        "   raise Exception(\"sorry, bro!\")"
      ]
    },
    {
      "cell_type": "code",
      "execution_count": null,
      "metadata": {
        "id": "KrkwNACFt9pf"
      },
      "outputs": [],
      "source": [
        "x = \"hello\"\n",
        "\n",
        "if not type(x) is int:\n",
        "   raise TypeError(f\"'{x}' isn't integers. only integers are allowed\")"
      ]
    },
    {
      "cell_type": "markdown",
      "metadata": {
        "id": "CQu_l3Zayup2"
      },
      "source": [
        "# Exercise\n"
      ]
    },
    {
      "cell_type": "markdown",
      "metadata": {
        "id": "EYgp6gHRx4Fa"
      },
      "source": [
        "\n",
        "\n",
        "```\n",
        "if not type(x) is int:\n",
        "\n",
        "\n",
        "```\n",
        "\n"
      ]
    },
    {
      "cell_type": "markdown",
      "metadata": {
        "id": "ivOIHUz3P4Fb"
      },
      "source": [
        "Exercise 1"
      ]
    },
    {
      "cell_type": "code",
      "source": [
        "# program penghitung luas bagun datar (week 10)\n",
        "# bangun datar: lingkaran, persegi, segitiga\n",
        "# recursive & exception handling\n",
        "\n",
        "# fungsi untuk menghitung luas bangun datar:\n",
        "# 1. fungsi luas lingkaran\n",
        "def luas_lingkaran(r):\n",
        "    return 3.14 * r * r\n",
        "# 2. fungsi luas persegi\n",
        "def luas_persegi(s):\n",
        "    return s * s\n",
        "# 3. fungsi luas segitiga\n",
        "def luas_segitiga(a, t):\n",
        "    return (a * t) / 2\n",
        "\n",
        "# menu kalkulator luas bangun datar\n",
        "# menampilkan judul pogram dan pilihan penghitungan\n",
        "print(\"\\033[1m----| KALKULATOR LUAS BANGUN DATAR |----\\033[0m\")\n",
        "print()\n",
        "print(\"Penghitungan yang dapat dilakukan:\")\n",
        "print(\"1. Luas Lingkaran\")\n",
        "print(\"2. Luas Persegi\")\n",
        "print(\"3. Luas Segitiga\")\n",
        "print(\"4. Selesai\")\n",
        "print()\n",
        "\n",
        "# fungsi input & output\n",
        "# memilih dan melakukan penghitungan\n",
        "def kalkulator():     # fungsi utama\n",
        "  # blok try\n",
        "  try:\n",
        "    pilih = (input(\"-> Pilih Penghitungan (1/2/3/4): \"))\n",
        "\n",
        "    # pemeriksaan input kosong\n",
        "    if not pilih:\n",
        "       print(\"\\033[1m ERROR : TIDAK BOLEH KOSONG!\\033[0m\")\n",
        "       print()\n",
        "       kalkulator()     # recursive call\n",
        "       return\n",
        "\n",
        "    pilih = int(pilih)  # covert pilih -> int\n",
        "    print()\n",
        "\n",
        "  # penanganan input pengguna\n",
        "   # base case - kondisi untuk mengakhiri program\n",
        "    if pilih == 4:\n",
        "       print(\"\\033[1mPROGRAM SELESAI\\033[0m\")\n",
        "       print()\n",
        "       return\n",
        "\n",
        "   # recursive case - kondisi untuk menghitung luas\n",
        "    # mengitung luas lingkaran\n",
        "    elif pilih == 1:\n",
        "         r = input(\"r : \")\n",
        "\n",
        "         # pemeriksaan input kosong\n",
        "         if not r:\n",
        "            print(\"\\033[1m ERROR : TIDAK BOLEH KOSONG!\\033[0m\")\n",
        "            print()\n",
        "            kalkulator()  # recursive call\n",
        "            return\n",
        "\n",
        "         r = int(r)\n",
        "         print(\"luas lingkaran =\", luas_lingkaran(r))\n",
        "         print()\n",
        "         kalkulator()     # recursive call\n",
        "\n",
        "    # menghitung luas persegi\n",
        "    elif pilih == 2:\n",
        "         s = input(\"s : \")\n",
        "\n",
        "         # pemeriksaan input kosong\n",
        "         if not s:\n",
        "            print(\"\\033[1m ERROR : TIDAK BOLEH KOSONG!\\033[0m\")\n",
        "            print()\n",
        "            kalkulator()  # recursive call\n",
        "            return\n",
        "\n",
        "         s = int(s)       # convert s -> int\n",
        "         print(\"luas persegi =\", luas_persegi(s))\n",
        "         print()\n",
        "         kalkulator()     # recursive call\n",
        "\n",
        "    # menghitung luas segitiga\n",
        "    elif pilih == 3:\n",
        "         a = input(\"a : \")\n",
        "\n",
        "         # pemeriksaan input kosong\n",
        "         if not a:\n",
        "            print(\"\\033[1m ERROR : TIDAK BOLEH KOSONG!\\033[0m\")\n",
        "            print()\n",
        "            kalkulator()  # recursive call\n",
        "            return\n",
        "\n",
        "         a = int(a)       # convert a -> int\n",
        "\n",
        "         t = input(\"t : \")\n",
        "\n",
        "         # pemeriksaan input kosong\n",
        "         if not t:\n",
        "            print(\"\\033[1m ERROR : TIDAK BOLEH KOSONG!\\033[0m\")\n",
        "            print()\n",
        "            kalkulator()\n",
        "            return\n",
        "\n",
        "         t = int(t)       # convert t -> int\n",
        "\n",
        "         print(\"luas segitiga =\", luas_segitiga(a, t))\n",
        "         print()\n",
        "         kalkulator()     # recursive call\n",
        "\n",
        "    # kondisi input tidak valid (input pilih > 4)\n",
        "    else:\n",
        "         print(\"\\033[1mINVALID INPUT!\\033[0m\")\n",
        "         print()\n",
        "         kalkulator()     # recursive call\n",
        "\n",
        "  # blok except\n",
        "  # exception handling untuk input != angka\n",
        "  except ValueError:\n",
        "    print(\"\\033[1m ERROR : HANYA BOLEH MEMASUKKAN ANGKA!\\033[0m\")\n",
        "    print()\n",
        "    kalkulator()          # recursive call\n",
        "\n",
        "# memanggil fungsi utama\n",
        "# untuk memulai eksekusi program\n",
        "kalkulator()"
      ],
      "metadata": {
        "id": "qV6tZPhMU3q6"
      },
      "execution_count": null,
      "outputs": []
    },
    {
      "cell_type": "markdown",
      "metadata": {
        "id": "Xp1mcA-mP_WG"
      },
      "source": [
        "Exercise 2"
      ]
    },
    {
      "cell_type": "code",
      "source": [
        "# program untuk mendeteksi jumlah bilangan ganjil\n",
        "# dan bilangan genap pada NPM yang diinputkan user\n",
        "# modifikasi program : menambah exception handling\n",
        "\n",
        "# fungsi utama\n",
        "def hitungNPM():\n",
        "    while True: # infinite loop\n",
        "        try:\n",
        "            NPM = input(\"Masukkan NPM = \")\n",
        "\n",
        "            # pemeriksaan input kosong\n",
        "            if not NPM:\n",
        "                print(\"ERROR : NPM tidak boleh kosong!\")\n",
        "                print()\n",
        "                continue\n",
        "\n",
        "            NPM = int(NPM)  # convert to int\n",
        "            NPM = str(NPM)  # convert int -> str\n",
        "\n",
        "            # variabel penghitung\n",
        "            jumlah_genap = 0\n",
        "            jumlah_ganjil = 0\n",
        "\n",
        "            # loop\n",
        "            # proses mendeteksi genap ganjil\n",
        "            for digit in NPM:\n",
        "                digit = int(digit)\n",
        "                if digit % 2 == 0:\n",
        "                    jumlah_genap += 1\n",
        "                else:\n",
        "                    jumlah_ganjil += 1\n",
        "\n",
        "            print(\"Jumlah angka genap = \", jumlah_genap)\n",
        "            print(\"Jumlah angka ganjil = \", jumlah_ganjil)\n",
        "\n",
        "        # exception handling untuk input != angka\n",
        "        except ValueError:\n",
        "            print(\"ERROR : NPM harus berupa angka!\")\n",
        "            print()\n",
        "        # exception handling saat tidak ada error\n",
        "        else:\n",
        "            print()\n",
        "            print(\"Yeay, program berhasil dijalankan!\")\n",
        "            break\n",
        "\n",
        "# memanggil fungsi utama\n",
        "# untuk memulai eksekusi program\n",
        "hitungNPM()"
      ],
      "metadata": {
        "colab": {
          "base_uri": "https://localhost:8080/"
        },
        "id": "TfsN6p4ePbGM",
        "outputId": "920410c0-740e-4d60-fe41-088d9ddfa278"
      },
      "execution_count": 2,
      "outputs": [
        {
          "output_type": "stream",
          "name": "stdout",
          "text": [
            "Masukkan NPM = dua empat\n",
            "ERROR : NPM harus berupa angka!\n",
            "\n",
            "Masukkan NPM = ?\n",
            "ERROR : NPM harus berupa angka!\n",
            "\n",
            "Masukkan NPM = 2420506024\n",
            "Jumlah angka genap =  9\n",
            "Jumlah angka ganjil =  1\n",
            "\n",
            "Yeay, program berhasil dijalankan!\n"
          ]
        }
      ]
    },
    {
      "cell_type": "code",
      "source": [],
      "metadata": {
        "id": "8asrvp-H5OqK"
      },
      "execution_count": null,
      "outputs": []
    }
  ],
  "metadata": {
    "colab": {
      "collapsed_sections": [
        "tsbfJ60hLayQ"
      ],
      "provenance": [],
      "authorship_tag": "ABX9TyPPTeDe5mn9dvYWlJJqc8PQ",
      "include_colab_link": true
    },
    "kernelspec": {
      "display_name": "Python 3",
      "name": "python3"
    },
    "language_info": {
      "name": "python"
    }
  },
  "nbformat": 4,
  "nbformat_minor": 0
}