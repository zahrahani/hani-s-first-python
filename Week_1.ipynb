{
  "nbformat": 4,
  "nbformat_minor": 0,
  "metadata": {
    "colab": {
      "provenance": [],
      "authorship_tag": "ABX9TyM9U5EAHT90lVS186fgKPGh",
      "include_colab_link": true
    },
    "kernelspec": {
      "name": "python3",
      "display_name": "Python 3"
    },
    "language_info": {
      "name": "python"
    }
  },
  "cells": [
    {
      "cell_type": "markdown",
      "metadata": {
        "id": "view-in-github",
        "colab_type": "text"
      },
      "source": [
        "<a href=\"https://colab.research.google.com/github/zahrahani/hani-s-first-phyton/blob/main/Week_01.ipynb\" target=\"_parent\"><img src=\"https://colab.research.google.com/assets/colab-badge.svg\" alt=\"Open In Colab\"/></a>"
      ]
    },
    {
      "cell_type": "code",
      "source": [
        "#Ucapkan Hello sebagai awalan untuk mencoba Phyton.\n",
        "#Cetak untuk menampilkan outputnya.\n",
        "\n",
        "print('Halo, Hani!') #Baris ini untuk mencetak string\n",
        "print('Hani')         #Baris ini untuk mencetak kata 'Hani'"
      ],
      "metadata": {
        "colab": {
          "base_uri": "https://localhost:8080/"
        },
        "id": "psBNV14xN3ta",
        "outputId": "13083a3d-e617-497e-d3e6-259e131d9fce"
      },
      "execution_count": 6,
      "outputs": [
        {
          "output_type": "stream",
          "name": "stdout",
          "text": [
            "Hello, Hani!\n",
            "Hani\n"
          ]
        }
      ]
    },
    {
      "cell_type": "code",
      "source": [
        "print('Hello, Hani!')"
      ],
      "metadata": {
        "colab": {
          "base_uri": "https://localhost:8080/"
        },
        "id": "wUnA2q34sGyd",
        "outputId": "11883f89-6be4-4328-a5e0-5208db122f1f"
      },
      "execution_count": 5,
      "outputs": [
        {
          "output_type": "stream",
          "name": "stdout",
          "text": [
            "Hello, Hani!\n"
          ]
        }
      ]
    },
    {
      "cell_type": "code",
      "source": [
        "#Mengecek versi Phyton yang saat ini digunakan.\n",
        "#Impor sys\n",
        "\n",
        "import sys\n",
        "print(sys.version)"
      ],
      "metadata": {
        "colab": {
          "base_uri": "https://localhost:8080/"
        },
        "id": "kqT7fVJhpusM",
        "outputId": "aa489942-013d-407c-ad92-5ad4eabb4582"
      },
      "execution_count": 3,
      "outputs": [
        {
          "output_type": "stream",
          "name": "stdout",
          "text": [
            "3.10.12 (main, Jul 29 2024, 16:56:48) [GCC 11.4.0]\n"
          ]
        }
      ]
    },
    {
      "cell_type": "code",
      "source": [
        "#Mencetak error\n",
        "\n",
        "frint('Hello, Hani!')"
      ],
      "metadata": {
        "colab": {
          "base_uri": "https://localhost:8080/",
          "height": 185
        },
        "id": "VdMtLFkrO7TB",
        "outputId": "30fb7858-64d6-49d6-c7b9-499025695865"
      },
      "execution_count": 10,
      "outputs": [
        {
          "output_type": "error",
          "ename": "NameError",
          "evalue": "name 'frint' is not defined",
          "traceback": [
            "\u001b[0;31m---------------------------------------------------------------------------\u001b[0m",
            "\u001b[0;31mNameError\u001b[0m                                 Traceback (most recent call last)",
            "\u001b[0;32m<ipython-input-10-36c638e2aeb0>\u001b[0m in \u001b[0;36m<cell line: 3>\u001b[0;34m()\u001b[0m\n\u001b[1;32m      1\u001b[0m \u001b[0;31m#Mencetak error\u001b[0m\u001b[0;34m\u001b[0m\u001b[0;34m\u001b[0m\u001b[0m\n\u001b[1;32m      2\u001b[0m \u001b[0;34m\u001b[0m\u001b[0m\n\u001b[0;32m----> 3\u001b[0;31m \u001b[0mfrint\u001b[0m\u001b[0;34m(\u001b[0m\u001b[0;34m'Hello, Hani!'\u001b[0m\u001b[0;34m)\u001b[0m\u001b[0;34m\u001b[0m\u001b[0;34m\u001b[0m\u001b[0m\n\u001b[0m",
            "\u001b[0;31mNameError\u001b[0m: name 'frint' is not defined"
          ]
        }
      ]
    },
    {
      "cell_type": "code",
      "source": [
        "#Mencetak error\n",
        "\n",
        "print(Hello, Hani!)"
      ],
      "metadata": {
        "colab": {
          "base_uri": "https://localhost:8080/",
          "height": 111
        },
        "id": "CDgwkZcDvyIl",
        "outputId": "556626d8-aacb-4785-d2f7-63b463d70fe5"
      },
      "execution_count": 12,
      "outputs": [
        {
          "output_type": "error",
          "ename": "SyntaxError",
          "evalue": "invalid syntax (<ipython-input-12-e153b758b978>, line 3)",
          "traceback": [
            "\u001b[0;36m  File \u001b[0;32m\"<ipython-input-12-e153b758b978>\"\u001b[0;36m, line \u001b[0;32m3\u001b[0m\n\u001b[0;31m    print(Hello, Hani!)\u001b[0m\n\u001b[0m                     ^\u001b[0m\n\u001b[0;31mSyntaxError\u001b[0m\u001b[0;31m:\u001b[0m invalid syntax\n"
          ]
        }
      ]
    },
    {
      "cell_type": "code",
      "source": [
        "#program ini digunakan untuk membuat dan menampilkan biodata diri\n",
        "\n",
        "print('Weekly Exercise 1')\n",
        "print(' ')\n",
        "print('Nama         : Zahra Nibras Hanilatifa')\n",
        "print('NPM          : 2420506024')\n",
        "print('Alamat       : Dsn. Saragan Rt:01/Rw:08, Banyurojo, Mertoyudan')\n",
        "print('Tinggi Badan : 155 cm')\n",
        "print('Berat Badan  : 48 kg')"
      ],
      "metadata": {
        "colab": {
          "base_uri": "https://localhost:8080/"
        },
        "id": "ThY1sLrUQqvI",
        "outputId": "731a489f-0b86-44eb-e0d9-3764d5f6d567"
      },
      "execution_count": 15,
      "outputs": [
        {
          "output_type": "stream",
          "name": "stdout",
          "text": [
            "Weekly Exercise 1\n",
            " \n",
            "Nama         : Zahra Nibras Hanilatifa\n",
            "NPM          : 2420506024\n",
            "Alamat       : Dsn. Saragan Rt:01/Rw:08, Banyurojo, Mertoyudan\n",
            "Tinggi Badan : 155 cm\n",
            "Berat Badan  : 48 kg\n"
          ]
        }
      ]
    },
    {
      "cell_type": "code",
      "source": [
        "#program ini untuk menampilkan tulisan tentang UNIVERSITAS TIDAR dan JTEMI\n",
        "\n",
        "print ('Weekly Exercice 2')\n",
        "print ('')\n",
        "print (\"\\033[1mUNIVERSITAS TIDAR\\033[0m\")\n",
        "print ('Universitas Tidar merupakan Perguruan Tinggi Pemerintah atau \\nPerguruan Tinggi Negeri yang telah ditetapkan berdasarkan \\nPeraturan Presiden Republik Indonesia Nomor 23 Tahun 2014 \\npada tanggal 1 April 2024')\n",
        "print ('')\n",
        "print (\"\\033[1mJURUSAN TEKNIK ELEKTRO, MEKATRONIKA, DAN INFORMASI\\033[0m\")\n",
        "print ('Jurusan Teknik Elektro terdiri atas tiga program studi antara lain:')\n",
        "print ('  1. S1 Teknik Elektro' \" \" \"(\\033[3mBachelor of Electrical Engineering\\033[0m)\")\n",
        "print ('  2. S1 Teknologi Informasi' \" \" \"(\\033[3mBachelor of Information Technology\\033[0m)\")\n",
        "print ('  3. S1 Teknik Mekatronika' \" \" \"(\\033[3mBachelor of Mechatronics Engineering\\033[0m)\")"
      ],
      "metadata": {
        "colab": {
          "base_uri": "https://localhost:8080/"
        },
        "id": "zWBDsRvkRxoL",
        "outputId": "d132d338-902f-4d11-fb49-a5ed6e4ebe50"
      },
      "execution_count": null,
      "outputs": [
        {
          "output_type": "stream",
          "name": "stdout",
          "text": [
            "Weekly Exercice 2\n",
            "\n",
            "\u001b[1mUNIVERSITAS TIDAR\u001b[0m\n",
            "Universitas Tidar merupakan Perguruan Tinggi Pemerintah atau \n",
            "Perguruan Tinggi Negeri yang telah ditetapkan berdasarkan \n",
            "Peraturan Presiden Republik Indonesia Nomor 23 Tahun 2014 \n",
            "pada tanggal 1 April 2024\n",
            "\n",
            "\u001b[1mJURUSAN TEKNIK ELEKTRO, MEKATRONIKA, DAN INFORMASI\u001b[0m\n",
            "Jurusan Teknik Elektro terdiri atas tiga program studi antara lain:\n",
            "  1. S1 Teknik Elektro (\u001b[3mBachelor of Electrical Engineering\u001b[0m)\n",
            "  2. S1 Teknologi Informasi (\u001b[3mBachelor of Information Technology\u001b[0m)\n",
            "  3. S1 Teknik Mekatronika (\u001b[3mBachelor of Mechatronics Engineering\u001b[0m)\n"
          ]
        }
      ]
    }
  ]
}
