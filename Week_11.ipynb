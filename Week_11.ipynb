{
  "nbformat": 4,
  "nbformat_minor": 0,
  "metadata": {
    "colab": {
      "provenance": [],
      "authorship_tag": "ABX9TyP6q81QUnrz4YmRE/22bMx2",
      "include_colab_link": true
    },
    "kernelspec": {
      "name": "python3",
      "display_name": "Python 3"
    },
    "language_info": {
      "name": "python"
    }
  },
  "cells": [
    {
      "cell_type": "markdown",
      "metadata": {
        "id": "view-in-github",
        "colab_type": "text"
      },
      "source": [
        "<a href=\"https://colab.research.google.com/github/zahrahani/hani-s-first-python/blob/main/Week_11.ipynb\" target=\"_parent\"><img src=\"https://colab.research.google.com/assets/colab-badge.svg\" alt=\"Open In Colab\"/></a>"
      ]
    },
    {
      "cell_type": "markdown",
      "source": [
        "# Module"
      ],
      "metadata": {
        "id": "o2WY3E7ypwor"
      }
    },
    {
      "cell_type": "markdown",
      "source": [
        "module + function"
      ],
      "metadata": {
        "id": "zl40hfivT9Lt"
      }
    },
    {
      "cell_type": "code",
      "source": [
        "# use module\n",
        "\n",
        "# import module\n",
        "import modulhani\n",
        "\n",
        "# use function from module\n",
        "modulhani.greeting(\"Hani\")"
      ],
      "metadata": {
        "colab": {
          "base_uri": "https://localhost:8080/"
        },
        "id": "hN4IoB2YsS5U",
        "outputId": "5981cde3-2058-42cc-ddc3-aaa1edad11f6"
      },
      "execution_count": null,
      "outputs": [
        {
          "output_type": "stream",
          "name": "stdout",
          "text": [
            "Hello, Hani\n"
          ]
        }
      ]
    },
    {
      "cell_type": "markdown",
      "source": [
        "module + variable dictionary"
      ],
      "metadata": {
        "id": "8qI326xNUK1X"
      }
    },
    {
      "cell_type": "code",
      "source": [
        "# access dictinoary in module\n",
        "\n",
        "# import module\n",
        "import modulhani_2\n",
        "\n",
        "# access dictionary with key = \"name\"\n",
        "a = modulhani_2.person1[\"name\"]\n",
        "print(a)"
      ],
      "metadata": {
        "colab": {
          "base_uri": "https://localhost:8080/"
        },
        "id": "XebVQ-t4skid",
        "outputId": "9fc0fe0b-961d-499e-9366-d3663da6e41f"
      },
      "execution_count": null,
      "outputs": [
        {
          "output_type": "stream",
          "name": "stdout",
          "text": [
            "hani\n"
          ]
        }
      ]
    },
    {
      "cell_type": "code",
      "source": [
        "# rename module\n",
        "\n",
        "# import and rename\n",
        "import modulhani_2 as mh2\n",
        "\n",
        "# access dictionary with renamed module\n",
        "x = mh2.person1[\"age\"]\n",
        "print(x)"
      ],
      "metadata": {
        "colab": {
          "base_uri": "https://localhost:8080/"
        },
        "id": "CJf7IliauDF1",
        "outputId": "75e40439-b282-417b-bafb-7f39d4d166d2"
      },
      "execution_count": null,
      "outputs": [
        {
          "output_type": "stream",
          "name": "stdout",
          "text": [
            "18\n"
          ]
        }
      ]
    },
    {
      "cell_type": "markdown",
      "source": [
        "built-in module"
      ],
      "metadata": {
        "id": "TedrrBDugOPX"
      }
    },
    {
      "cell_type": "code",
      "source": [
        "import platform\n",
        "\n",
        "p = platform.system()\n",
        "print(p)"
      ],
      "metadata": {
        "colab": {
          "base_uri": "https://localhost:8080/"
        },
        "id": "-uWOQWftuwvV",
        "outputId": "6c4f5ee1-5dfc-4abd-c826-95421e57e2f3"
      },
      "execution_count": null,
      "outputs": [
        {
          "output_type": "stream",
          "name": "stdout",
          "text": [
            "Linux\n"
          ]
        }
      ]
    },
    {
      "cell_type": "markdown",
      "source": [
        "dir()"
      ],
      "metadata": {
        "id": "chKDLeEyj_MC"
      }
    },
    {
      "cell_type": "code",
      "source": [
        "import modulhani\n",
        "\n",
        "print(dir(modulhani))"
      ],
      "metadata": {
        "colab": {
          "base_uri": "https://localhost:8080/"
        },
        "id": "P_0GS0zRmSE4",
        "outputId": "d711b689-1cc6-4e15-a818-0cae70aba9e7"
      },
      "execution_count": null,
      "outputs": [
        {
          "output_type": "stream",
          "name": "stdout",
          "text": [
            "['__builtins__', '__cached__', '__doc__', '__file__', '__loader__', '__name__', '__package__', '__spec__', 'greeting']\n"
          ]
        }
      ]
    },
    {
      "cell_type": "code",
      "source": [
        "import modulhani_2\n",
        "\n",
        "b = dir(modulhani_2)\n",
        "print(b)"
      ],
      "metadata": {
        "colab": {
          "base_uri": "https://localhost:8080/"
        },
        "id": "lg0JDtZqmYSR",
        "outputId": "d323d74b-b281-4427-872e-e3e4c5e5ef6d"
      },
      "execution_count": null,
      "outputs": [
        {
          "output_type": "stream",
          "name": "stdout",
          "text": [
            "['__builtins__', '__cached__', '__doc__', '__file__', '__loader__', '__name__', '__package__', '__spec__', 'person1']\n"
          ]
        }
      ]
    },
    {
      "cell_type": "code",
      "source": [
        "import modulhani_3\n",
        "\n",
        "c = dir(modulhani_3)\n",
        "print(c)"
      ],
      "metadata": {
        "colab": {
          "base_uri": "https://localhost:8080/"
        },
        "id": "Vy_eNUEumdO4",
        "outputId": "b86d0792-4d99-4ff7-dbd2-36832d113d50"
      },
      "execution_count": null,
      "outputs": [
        {
          "output_type": "stream",
          "name": "stdout",
          "text": [
            "['__builtins__', '__cached__', '__doc__', '__file__', '__loader__', '__name__', '__package__', '__spec__', 'greeting', 'person1']\n"
          ]
        }
      ]
    },
    {
      "cell_type": "code",
      "source": [
        "import platform\n",
        "\n",
        "x = dir(platform)\n",
        "print(x)"
      ],
      "metadata": {
        "colab": {
          "base_uri": "https://localhost:8080/"
        },
        "id": "NMavnW_fu5da",
        "outputId": "a5df8561-700a-473b-c4eb-c3f87c939fb9"
      },
      "execution_count": null,
      "outputs": [
        {
          "output_type": "stream",
          "name": "stdout",
          "text": [
            "['_Processor', '_WIN32_CLIENT_RELEASES', '_WIN32_SERVER_RELEASES', '__builtins__', '__cached__', '__copyright__', '__doc__', '__file__', '__loader__', '__name__', '__package__', '__spec__', '__version__', '_comparable_version', '_component_re', '_default_architecture', '_follow_symlinks', '_get_machine_win32', '_ironpython26_sys_version_parser', '_ironpython_sys_version_parser', '_java_getprop', '_libc_search', '_mac_ver_xml', '_node', '_norm_version', '_os_release_cache', '_os_release_candidates', '_os_release_line', '_os_release_unescape', '_parse_os_release', '_platform', '_platform_cache', '_pypy_sys_version_parser', '_sys_version', '_sys_version_cache', '_sys_version_parser', '_syscmd_file', '_syscmd_ver', '_uname_cache', '_unknown_as_blank', '_ver_output', '_ver_stages', 'architecture', 'collections', 'freedesktop_os_release', 'functools', 'itertools', 'java_ver', 'libc_ver', 'mac_ver', 'machine', 'node', 'os', 'platform', 'processor', 'python_branch', 'python_build', 'python_compiler', 'python_implementation', 'python_revision', 'python_version', 'python_version_tuple', 're', 'release', 'subprocess', 'sys', 'system', 'system_alias', 'uname', 'uname_result', 'version', 'win32_edition', 'win32_is_iot', 'win32_ver']\n"
          ]
        }
      ]
    },
    {
      "cell_type": "markdown",
      "source": [
        "import from module"
      ],
      "metadata": {
        "id": "uPitg0YbmDI3"
      }
    },
    {
      "cell_type": "code",
      "source": [
        "# import\n",
        "\n",
        "from modulhani_3 import greeting\n",
        "\n",
        "greeting(\"Hani\")"
      ],
      "metadata": {
        "colab": {
          "base_uri": "https://localhost:8080/"
        },
        "id": "tbwQyEoSttcK",
        "outputId": "ca206d47-93dc-4d19-b55e-ee4cf74f8c41"
      },
      "execution_count": null,
      "outputs": [
        {
          "output_type": "stream",
          "name": "stdout",
          "text": [
            "Hello, Hani\n"
          ]
        }
      ]
    },
    {
      "cell_type": "code",
      "source": [
        "# import dictionary\n",
        "\n",
        "from modulhani_3 import person1\n",
        "\n",
        "print(person1[\"name\"])\n",
        "print(person1[\"age\"])\n",
        "print(person1[\"country\"])"
      ],
      "metadata": {
        "id": "yj2d500Zu-ES",
        "colab": {
          "base_uri": "https://localhost:8080/"
        },
        "outputId": "97052537-8c9e-4fbf-8c26-15f777c60f5b"
      },
      "execution_count": null,
      "outputs": [
        {
          "output_type": "stream",
          "name": "stdout",
          "text": [
            "hani\n",
            "18\n",
            "Indonesia\n"
          ]
        }
      ]
    },
    {
      "cell_type": "markdown",
      "source": [
        "## Exercise"
      ],
      "metadata": {
        "id": "Vo_V4nvzx2H9"
      }
    },
    {
      "cell_type": "markdown",
      "source": [
        "Weekly Exercise 1"
      ],
      "metadata": {
        "id": "Imh3ugymkioL"
      }
    },
    {
      "cell_type": "code",
      "source": [
        "# program untuk menghitung luas bangun datar lingkaran\n",
        "\n",
        "# import fungsi Luaslingkaran dari module matematika.py\n",
        "from matematika import Luaslingkaran\n",
        "\n",
        "# hitung & cetak luas lingkaran\n",
        "luling = Luaslingkaran(r = 10)\n",
        "print(luling)"
      ],
      "metadata": {
        "colab": {
          "base_uri": "https://localhost:8080/"
        },
        "id": "vptmqYQ6k-YI",
        "outputId": "6135c2e3-86f0-4747-ee42-bb73c949f5e6"
      },
      "execution_count": null,
      "outputs": [
        {
          "output_type": "stream",
          "name": "stdout",
          "text": [
            "314.0\n"
          ]
        }
      ]
    },
    {
      "cell_type": "code",
      "source": [
        "# program untuk menghitung luas bangun datar persegi\n",
        "\n",
        "# import fungsi Luaspersegi dari module matematika.py\n",
        "from matematika import Luaspersegi\n",
        "\n",
        "# hitung & cetak luas persegi\n",
        "luper = Luaspersegi(s = 9)\n",
        "print(luper)"
      ],
      "metadata": {
        "colab": {
          "base_uri": "https://localhost:8080/"
        },
        "id": "8HQ1NHkGm7nL",
        "outputId": "314db5b6-7efa-40ef-ef02-3f2444a58421"
      },
      "execution_count": null,
      "outputs": [
        {
          "output_type": "stream",
          "name": "stdout",
          "text": [
            "81\n"
          ]
        }
      ]
    },
    {
      "cell_type": "markdown",
      "source": [
        "Weekly Exercise 2"
      ],
      "metadata": {
        "id": "Iy51HJ-7knVU"
      }
    },
    {
      "cell_type": "code",
      "source": [
        "import math\n",
        "\n",
        "print(dir(math))"
      ],
      "metadata": {
        "colab": {
          "base_uri": "https://localhost:8080/"
        },
        "id": "kLCGaS8Kou3B",
        "outputId": "75701a25-8c24-41d9-f0d4-af28e82d9072"
      },
      "execution_count": null,
      "outputs": [
        {
          "output_type": "stream",
          "name": "stdout",
          "text": [
            "['__doc__', '__loader__', '__name__', '__package__', '__spec__', 'acos', 'acosh', 'asin', 'asinh', 'atan', 'atan2', 'atanh', 'ceil', 'comb', 'copysign', 'cos', 'cosh', 'degrees', 'dist', 'e', 'erf', 'erfc', 'exp', 'expm1', 'fabs', 'factorial', 'floor', 'fmod', 'frexp', 'fsum', 'gamma', 'gcd', 'hypot', 'inf', 'isclose', 'isfinite', 'isinf', 'isnan', 'isqrt', 'lcm', 'ldexp', 'lgamma', 'log', 'log10', 'log1p', 'log2', 'modf', 'nan', 'nextafter', 'perm', 'pi', 'pow', 'prod', 'radians', 'remainder', 'sin', 'sinh', 'sqrt', 'tan', 'tanh', 'tau', 'trunc', 'ulp']\n"
          ]
        }
      ]
    },
    {
      "cell_type": "code",
      "source": [
        "# built-in module math\n",
        "# 1. factorial\n",
        "\n",
        "import math as m\n",
        "\n",
        "n = int(input(\"n = \"))\n",
        "print(f\"hasil dari {n}! adalah {m.factorial(n)}\")"
      ],
      "metadata": {
        "id": "vVuU5Io9q11v"
      },
      "execution_count": null,
      "outputs": []
    },
    {
      "cell_type": "code",
      "source": [
        "# built-in module math\n",
        "# 2. fabs : untuk menghitung nilai mutlak\n",
        "\n",
        "import math as m\n",
        "\n",
        "a = int(input(\"a = \"))\n",
        "print(f\"nilai mutlak dari {a} adalah {m.fabs(a)}\")"
      ],
      "metadata": {
        "id": "ceGNreioxEYZ"
      },
      "execution_count": null,
      "outputs": []
    },
    {
      "cell_type": "code",
      "source": [
        "# built-in module math\n",
        "# 3. fmod : untuk menentukan sisa hasil bagi\n",
        "\n",
        "import math as m\n",
        "\n",
        "x = int(input(\"x = \"))\n",
        "y = int(input(\"y = \"))\n",
        "print(f\"mod dari {x}/{y} adalah {m.fmod(x, y)}\")"
      ],
      "metadata": {
        "id": "a26EOVIkxIbZ"
      },
      "execution_count": null,
      "outputs": []
    },
    {
      "cell_type": "code",
      "source": [
        "# built-in module math\n",
        "# 4. pow : menghitung pangkat\n",
        "\n",
        "import math as m\n",
        "\n",
        "x = int(input(\"x = \"))\n",
        "y = int(input(\"y = \"))\n",
        "print(f\"hasil dari {x}^{y} adalah {m.pow(x, y)}\")"
      ],
      "metadata": {
        "id": "HhBCuOYIyCSU"
      },
      "execution_count": null,
      "outputs": []
    },
    {
      "cell_type": "code",
      "source": [
        "# built-in module math\n",
        "# 5. sqrt : untuk menghitung akar kuadrat\n",
        "\n",
        "import math as m\n",
        "\n",
        "x = int(input(\"x = \"))\n",
        "print(f\"akar kuadrat dari {x} adalah {m.sqrt(x)}\")"
      ],
      "metadata": {
        "id": "7GdfApPxxbyh"
      },
      "execution_count": null,
      "outputs": []
    }
  ]
}