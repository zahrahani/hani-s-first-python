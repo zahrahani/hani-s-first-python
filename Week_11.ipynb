{
  "nbformat": 4,
  "nbformat_minor": 0,
  "metadata": {
    "colab": {
      "provenance": [],
      "authorship_tag": "ABX9TyP6q81QUnrz4YmRE/22bMx2",
      "include_colab_link": true
    },
    "kernelspec": {
      "name": "python3",
      "display_name": "Python 3"
    },
    "language_info": {
      "name": "python"
    }
  },
  "cells": [
    {
      "cell_type": "markdown",
      "metadata": {
        "id": "view-in-github",
        "colab_type": "text"
      },
      "source": [
        "<a href=\"https://colab.research.google.com/github/zahrahani/hani-s-first-python/blob/main/Week_11.ipynb\" target=\"_parent\"><img src=\"https://colab.research.google.com/assets/colab-badge.svg\" alt=\"Open In Colab\"/></a>"
      ]
    },
    {
      "cell_type": "markdown",
      "source": [
        "# Module"
      ],
      "metadata": {
        "id": "o2WY3E7ypwor"
      }
    },
    {
      "cell_type": "markdown",
      "source": [
        "module + function"
      ],
      "metadata": {
        "id": "zl40hfivT9Lt"
      }
    },
    {
      "cell_type": "code",
      "source": [
        "# use module\n",
        "\n",
        "# import module\n",
        "import modulhani\n",
        "\n",
        "# use function from module\n",
        "modulhani.greeting(\"Hani\")"
      ],
      "metadata": {
        "id": "hN4IoB2YsS5U"
      },
      "execution_count": null,
      "outputs": []
    },
    {
      "cell_type": "markdown",
      "source": [
        "module + variable dictionary"
      ],
      "metadata": {
        "id": "8qI326xNUK1X"
      }
    },
    {
      "cell_type": "code",
      "source": [
        "# access dictinoary in module\n",
        "\n",
        "# import module\n",
        "import modulhani_2\n",
        "\n",
        "# access dictionary with key = \"name\"\n",
        "a = modulhani_2.person1[\"name\"]\n",
        "print(a)"
      ],
      "metadata": {
        "id": "XebVQ-t4skid"
      },
      "execution_count": null,
      "outputs": []
    },
    {
      "cell_type": "code",
      "source": [
        "# rename module\n",
        "\n",
        "# import and rename\n",
        "import modulhani_2 as mh2\n",
        "\n",
        "# access dictionary with renamed module\n",
        "x = mh2.person1[\"age\"]\n",
        "print(x)"
      ],
      "metadata": {
        "id": "CJf7IliauDF1"
      },
      "execution_count": null,
      "outputs": []
    },
    {
      "cell_type": "markdown",
      "source": [
        "built-in module"
      ],
      "metadata": {
        "id": "TedrrBDugOPX"
      }
    },
    {
      "cell_type": "code",
      "source": [
        "import platform\n",
        "\n",
        "p = platform.system()\n",
        "print(p)"
      ],
      "metadata": {
        "id": "-uWOQWftuwvV"
      },
      "execution_count": null,
      "outputs": []
    },
    {
      "cell_type": "markdown",
      "source": [
        "dir()"
      ],
      "metadata": {
        "id": "chKDLeEyj_MC"
      }
    },
    {
      "cell_type": "code",
      "source": [
        "import modulhani\n",
        "\n",
        "print(dir(modulhani))"
      ],
      "metadata": {
        "id": "P_0GS0zRmSE4"
      },
      "execution_count": null,
      "outputs": []
    },
    {
      "cell_type": "code",
      "source": [
        "import modulhani_2\n",
        "\n",
        "b = dir(modulhani_2)\n",
        "print(b)"
      ],
      "metadata": {
        "id": "lg0JDtZqmYSR"
      },
      "execution_count": null,
      "outputs": []
    },
    {
      "cell_type": "code",
      "source": [
        "import modulhani_3\n",
        "\n",
        "c = dir(modulhani_3)\n",
        "print(c)"
      ],
      "metadata": {
        "id": "Vy_eNUEumdO4"
      },
      "execution_count": null,
      "outputs": []
    },
    {
      "cell_type": "code",
      "source": [
        "import platform\n",
        "\n",
        "x = dir(platform)\n",
        "print(x)"
      ],
      "metadata": {
        "id": "NMavnW_fu5da"
      },
      "execution_count": null,
      "outputs": []
    },
    {
      "cell_type": "markdown",
      "source": [
        "import from module"
      ],
      "metadata": {
        "id": "uPitg0YbmDI3"
      }
    },
    {
      "cell_type": "code",
      "source": [
        "# import\n",
        "\n",
        "from modulhani_3 import greeting\n",
        "\n",
        "greeting(\"Hani\")"
      ],
      "metadata": {
        "id": "tbwQyEoSttcK"
      },
      "execution_count": null,
      "outputs": []
    },
    {
      "cell_type": "code",
      "source": [
        "# import dictionary\n",
        "\n",
        "from modulhani_3 import person1\n",
        "\n",
        "print(person1[\"name\"])\n",
        "print(person1[\"age\"])\n",
        "print(person1[\"country\"])"
      ],
      "metadata": {
        "id": "yj2d500Zu-ES"
      },
      "execution_count": null,
      "outputs": []
    },
    {
      "cell_type": "markdown",
      "source": [
        "## Exercise"
      ],
      "metadata": {
        "id": "Vo_V4nvzx2H9"
      }
    },
    {
      "cell_type": "markdown",
      "source": [
        "Weekly Exercise 1"
      ],
      "metadata": {
        "id": "Imh3ugymkioL"
      }
    },
    {
      "cell_type": "code",
      "source": [
        "# program untuk menghitung luas bangun datar lingkaran\n",
        "\n",
        "# import fungsi Luaslingkaran dari module matematika.py\n",
        "from matematika import Luaslingkaran\n",
        "\n",
        "# hitung & cetak luas lingkaran\n",
        "luling = Luaslingkaran(r = 10)\n",
        "print(luling)"
      ],
      "metadata": {
        "id": "vptmqYQ6k-YI"
      },
      "execution_count": null,
      "outputs": []
    },
    {
      "cell_type": "code",
      "source": [
        "# program untuk menghitung luas bangun datar persegi\n",
        "\n",
        "# import fungsi Luaspersegi dari module matematika.py\n",
        "from matematika import Luaspersegi\n",
        "\n",
        "# hitung & cetak luas persegi\n",
        "luper = Luaspersegi(s = 9)\n",
        "print(luper)"
      ],
      "metadata": {
        "id": "8HQ1NHkGm7nL"
      },
      "execution_count": null,
      "outputs": []
    },
    {
      "cell_type": "markdown",
      "source": [
        "Weekly Exercise 2"
      ],
      "metadata": {
        "id": "Iy51HJ-7knVU"
      }
    },
    {
      "cell_type": "code",
      "source": [
        "import math\n",
        "\n",
        "print(dir(math))"
      ],
      "metadata": {
        "id": "kLCGaS8Kou3B"
      },
      "execution_count": null,
      "outputs": []
    },
    {
      "cell_type": "code",
      "source": [
        "# built-in module math\n",
        "# 1. factorial\n",
        "\n",
        "import math as m\n",
        "\n",
        "n = int(input(\"n = \"))\n",
        "print(f\"hasil dari {n}! adalah {m.factorial(n)}\")"
      ],
      "metadata": {
        "id": "vVuU5Io9q11v"
      },
      "execution_count": null,
      "outputs": []
    },
    {
      "cell_type": "code",
      "source": [
        "# built-in module math\n",
        "# 2. fabs : untuk menghitung nilai mutlak\n",
        "\n",
        "import math as m\n",
        "\n",
        "a = int(input(\"a = \"))\n",
        "print(f\"nilai mutlak dari {a} adalah {m.fabs(a)}\")"
      ],
      "metadata": {
        "id": "ceGNreioxEYZ"
      },
      "execution_count": null,
      "outputs": []
    },
    {
      "cell_type": "code",
      "source": [
        "# built-in module math\n",
        "# 3. fmod : untuk menentukan sisa hasil bagi\n",
        "\n",
        "import math as m\n",
        "\n",
        "x = int(input(\"x = \"))\n",
        "y = int(input(\"y = \"))\n",
        "print(f\"mod dari {x}/{y} adalah {m.fmod(x, y)}\")"
      ],
      "metadata": {
        "id": "a26EOVIkxIbZ"
      },
      "execution_count": null,
      "outputs": []
    },
    {
      "cell_type": "code",
      "source": [
        "# built-in module math\n",
        "# 4. pow : menghitung pangkat\n",
        "\n",
        "import math as m\n",
        "\n",
        "x = int(input(\"x = \"))\n",
        "y = int(input(\"y = \"))\n",
        "print(f\"hasil dari {x}^{y} adalah {m.pow(x, y)}\")"
      ],
      "metadata": {
        "id": "HhBCuOYIyCSU"
      },
      "execution_count": null,
      "outputs": []
    },
    {
      "cell_type": "code",
      "source": [
        "# built-in module math\n",
        "# 5. sqrt : untuk menghitung akar kuadrat\n",
        "\n",
        "import math as m\n",
        "\n",
        "x = int(input(\"x = \"))\n",
        "print(f\"akar kuadrat dari {x} adalah {m.sqrt(x)}\")"
      ],
      "metadata": {
        "id": "7GdfApPxxbyh"
      },
      "execution_count": null,
      "outputs": []
    }
  ]
}