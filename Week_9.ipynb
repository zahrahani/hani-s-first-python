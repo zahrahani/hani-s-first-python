{
  "nbformat": 4,
  "nbformat_minor": 0,
  "metadata": {
    "colab": {
      "provenance": [],
      "collapsed_sections": [
        "esvLy0ZfN_Wq",
        "ZC1R_4TQC7ic",
        "9DbpnGS2IJpJ",
        "copObpbXCugB",
        "9HHF9Thwka1t"
      ],
      "authorship_tag": "ABX9TyMDwsoEIgRFdcZYT2p64/3k",
      "include_colab_link": true
    },
    "kernelspec": {
      "name": "python3",
      "display_name": "Python 3"
    },
    "language_info": {
      "name": "python"
    }
  },
  "cells": [
    {
      "cell_type": "markdown",
      "metadata": {
        "id": "view-in-github",
        "colab_type": "text"
      },
      "source": [
        "<a href=\"https://colab.research.google.com/github/zahrahani/hani-s-first-python/blob/main/Week_9.ipynb\" target=\"_parent\"><img src=\"https://colab.research.google.com/assets/colab-badge.svg\" alt=\"Open In Colab\"/></a>"
      ]
    },
    {
      "cell_type": "markdown",
      "source": [
        "# **Collection**"
      ],
      "metadata": {
        "id": "esvLy0ZfN_Wq"
      }
    },
    {
      "cell_type": "markdown",
      "source": [
        "## List"
      ],
      "metadata": {
        "id": "x1o-lN3q7Q8x"
      }
    },
    {
      "cell_type": "code",
      "source": [
        "dataku = []\n",
        "print(type(dataku))"
      ],
      "metadata": {
        "id": "gWw3qADq7NbA",
        "colab": {
          "base_uri": "https://localhost:8080/"
        },
        "outputId": "3da044f5-0032-4e03-8dfc-c0eea96a9cec"
      },
      "execution_count": null,
      "outputs": [
        {
          "output_type": "stream",
          "name": "stdout",
          "text": [
            "<class 'list'>\n"
          ]
        }
      ]
    },
    {
      "cell_type": "markdown",
      "source": [
        "**1. membuat list**"
      ],
      "metadata": {
        "id": "q6O7k0i4OfFf"
      }
    },
    {
      "cell_type": "code",
      "source": [
        "dataku = [\"hani\", 18.6, 1, True]"
      ],
      "metadata": {
        "id": "UOfhWCTy2VDF"
      },
      "execution_count": null,
      "outputs": []
    },
    {
      "cell_type": "markdown",
      "source": [
        "**2. menampilkan / akses item list**"
      ],
      "metadata": {
        "id": "X4mF2_ceTKMO"
      }
    },
    {
      "cell_type": "code",
      "source": [
        "dataku = [\"hani\", 18.6, 1, True]\n",
        "print(dataku)"
      ],
      "metadata": {
        "colab": {
          "base_uri": "https://localhost:8080/"
        },
        "id": "JEQ_z-A_PdEl",
        "outputId": "cca49b3a-84f9-456c-d485-ce64823d95ba"
      },
      "execution_count": null,
      "outputs": [
        {
          "output_type": "stream",
          "name": "stdout",
          "text": [
            "['hani', 18.6, 1, True]\n"
          ]
        }
      ]
    },
    {
      "cell_type": "code",
      "source": [
        "dataku = [\"hani\", 18.6, 1, True]\n",
        "print(dataku[0])  # index = 0\n",
        "print(dataku[1])  # index positif\n",
        "print(dataku[-1]) # index negatif"
      ],
      "metadata": {
        "colab": {
          "base_uri": "https://localhost:8080/"
        },
        "id": "CRpsFbzW7WJQ",
        "outputId": "618f9abb-a44e-4ae9-a19a-08c6a544c4f9"
      },
      "execution_count": null,
      "outputs": [
        {
          "output_type": "stream",
          "name": "stdout",
          "text": [
            "hani\n",
            "18.6\n",
            "True\n"
          ]
        }
      ]
    },
    {
      "cell_type": "code",
      "source": [
        "dataku = [\"hani\", 18.6, 1, True]\n",
        "print(dataku[0:4]) # range index positif\n",
        "print(dataku[-3:-1]) # range index negatif\n",
        "print(dataku[1:])\n",
        "print(dataku[:3])\n",
        "print(dataku[-1:])\n",
        "print(dataku[:-3])\n",
        "print(dataku[-1:2])"
      ],
      "metadata": {
        "colab": {
          "base_uri": "https://localhost:8080/"
        },
        "id": "9vs2hJqETJ2V",
        "outputId": "593eb139-d91f-40db-9a6f-ce2187e22c40"
      },
      "execution_count": null,
      "outputs": [
        {
          "output_type": "stream",
          "name": "stdout",
          "text": [
            "['hani', 18.6, 1, True]\n",
            "[18.6, 1]\n",
            "[18.6, 1, True]\n",
            "['hani', 18.6, 1]\n",
            "[True]\n",
            "['hani']\n",
            "[]\n"
          ]
        }
      ]
    },
    {
      "cell_type": "markdown",
      "source": [
        "**menampilkan / akses item list menggunakan loop**"
      ],
      "metadata": {
        "id": "X82K9sh9OlTT"
      }
    },
    {
      "cell_type": "code",
      "source": [
        "# loop for\n",
        "dataku = [\"hani\", 18.6, 1, True]\n",
        "for h in dataku:\n",
        "    print(h)"
      ],
      "metadata": {
        "colab": {
          "base_uri": "https://localhost:8080/"
        },
        "id": "fPMoJr7VOj6Q",
        "outputId": "d88e3ed8-a4b0-4de1-ac49-782bc5f852e5"
      },
      "execution_count": 3,
      "outputs": [
        {
          "output_type": "stream",
          "name": "stdout",
          "text": [
            "hani\n",
            "18.6\n",
            "1\n",
            "True\n"
          ]
        }
      ]
    },
    {
      "cell_type": "code",
      "source": [
        "# loop for + index\n",
        "# pakai fungsi .range() dan len()\n",
        "dataku = [\"hani\", 18.6, 1, True]\n",
        "for i in range(len(dataku)):\n",
        "    print(i, dataku[i])"
      ],
      "metadata": {
        "colab": {
          "base_uri": "https://localhost:8080/"
        },
        "id": "bVoapvOCPA8u",
        "outputId": "c63b490d-59df-4551-a46d-30a2be20a7bc"
      },
      "execution_count": 5,
      "outputs": [
        {
          "output_type": "stream",
          "name": "stdout",
          "text": [
            "0 hani\n",
            "1 18.6\n",
            "2 1\n",
            "3 True\n"
          ]
        }
      ]
    },
    {
      "cell_type": "code",
      "source": [
        "# loop for + range index\n",
        "dataku = [\"hani\", 18.6, 1, True]\n",
        "for i in range(2):\n",
        "    print(i, dataku[i])"
      ],
      "metadata": {
        "colab": {
          "base_uri": "https://localhost:8080/"
        },
        "id": "VVFoBHmmPsJh",
        "outputId": "5478acfc-7bf3-4825-acb2-c4f7f015916e"
      },
      "execution_count": 6,
      "outputs": [
        {
          "output_type": "stream",
          "name": "stdout",
          "text": [
            "0 hani\n",
            "1 18.6\n"
          ]
        }
      ]
    },
    {
      "cell_type": "code",
      "source": [
        "# loop while\n",
        "dataku = [\"hani\", 18.6, 1, True]\n",
        "i = 0\n",
        "while i < len(dataku):\n",
        "    print(i, dataku[i])\n",
        "    i += 1"
      ],
      "metadata": {
        "colab": {
          "base_uri": "https://localhost:8080/"
        },
        "id": "N_quUhnMP0d8",
        "outputId": "6013c6ce-4ec5-455e-9468-f76a5942d0cb"
      },
      "execution_count": 9,
      "outputs": [
        {
          "output_type": "stream",
          "name": "stdout",
          "text": [
            "0 hani\n",
            "1 18.6\n",
            "2 1\n",
            "3 True\n"
          ]
        }
      ]
    },
    {
      "cell_type": "code",
      "source": [
        "# loop for + list comprehension\n",
        "hewan = [\"kucing\", \"beruang\", \"landak\", \"burung\", \"dinosaurus\", \"elang\"]\n",
        "hewan_u = []\n",
        "\n",
        "for h in hewan:\n",
        "    if \"u\" in h:\n",
        "        hewan_u.append(h)\n",
        "\n",
        "print(hewan_u)"
      ],
      "metadata": {
        "colab": {
          "base_uri": "https://localhost:8080/"
        },
        "id": "Xerjh1CvP8qv",
        "outputId": "4e83a222-4465-4c4b-dceb-4aeb8e2af7f3"
      },
      "execution_count": 10,
      "outputs": [
        {
          "output_type": "stream",
          "name": "stdout",
          "text": [
            "['kucing', 'beruang', 'burung', 'dinosaurus']\n"
          ]
        }
      ]
    },
    {
      "cell_type": "code",
      "source": [
        "# loop for + list comprehension\n",
        "# ringkas\n",
        "hewan = [\"kucing\", \"beruang\", \"landak\", \"burung\", \"dinosaurus\", \"elang\"]\n",
        "hewan_u = [h for h in hewan if \"u\" in h]\n",
        "print(hewan_u)"
      ],
      "metadata": {
        "colab": {
          "base_uri": "https://localhost:8080/"
        },
        "id": "fTG9qiAnQ_y3",
        "outputId": "3fd62098-5731-4601-f666-59f86666baa6"
      },
      "execution_count": 12,
      "outputs": [
        {
          "output_type": "stream",
          "name": "stdout",
          "text": [
            "['kucing', 'beruang', 'burung', 'dinosaurus']\n"
          ]
        }
      ]
    },
    {
      "cell_type": "markdown",
      "source": [
        "**3. edit list**"
      ],
      "metadata": {
        "id": "GonSvYvDQuP1"
      }
    },
    {
      "cell_type": "code",
      "source": [
        "# mengubah data\n",
        "dataku = [\"hani\", 18.6, 1, True]\n",
        "dataku[1] = 19\n",
        "print(dataku)"
      ],
      "metadata": {
        "colab": {
          "base_uri": "https://localhost:8080/"
        },
        "id": "VxHUyXWl7107",
        "outputId": "3e95e0ef-43c6-44d3-b050-9460d1f80099"
      },
      "execution_count": null,
      "outputs": [
        {
          "output_type": "stream",
          "name": "stdout",
          "text": [
            "['hani', 19, 1, True]\n"
          ]
        }
      ]
    },
    {
      "cell_type": "code",
      "source": [
        "# mengubah data (2)\n",
        "dataku = [\"hani\", 18.6, 1, True]\n",
        "dataku[0:2] = [\"zahra\", 19]\n",
        "print(dataku)"
      ],
      "metadata": {
        "colab": {
          "base_uri": "https://localhost:8080/"
        },
        "id": "JCjt5SErXJ6j",
        "outputId": "d0d692bf-b3ba-4d26-99a6-07cc7281b84e"
      },
      "execution_count": null,
      "outputs": [
        {
          "output_type": "stream",
          "name": "stdout",
          "text": [
            "['zahra', 19, 1, True]\n"
          ]
        }
      ]
    },
    {
      "cell_type": "code",
      "source": [
        "# mengubah data (3)\n",
        "dataku = [\"hani\", 18.6, 1, True]\n",
        "dataku[1:3] = [12, \"april\"]\n",
        "print(dataku)"
      ],
      "metadata": {
        "colab": {
          "base_uri": "https://localhost:8080/"
        },
        "id": "Y8EUhy6xXdjR",
        "outputId": "f0ba5707-8df7-44e4-d0da-a4caed622200"
      },
      "execution_count": null,
      "outputs": [
        {
          "output_type": "stream",
          "name": "stdout",
          "text": [
            "['hani', 12, 'april', True]\n"
          ]
        }
      ]
    },
    {
      "cell_type": "code",
      "source": [
        "# menambah data\n",
        "dataku = [\"hani\", 18.6, 1, True]\n",
        "dataku.append(\"wanita\")\n",
        "print(dataku)"
      ],
      "metadata": {
        "colab": {
          "base_uri": "https://localhost:8080/"
        },
        "id": "VwcHgwfB8wTM",
        "outputId": "0db06006-318e-419e-8fc3-00a7a6f82235"
      },
      "execution_count": null,
      "outputs": [
        {
          "output_type": "stream",
          "name": "stdout",
          "text": [
            "['hani', 18.6, 1, True, 'wanita']\n"
          ]
        }
      ]
    },
    {
      "cell_type": "code",
      "source": [
        "# menambah data\n",
        "# dengan metode .insert()\n",
        "dataku = [\"hani\", 18.6, 1, True]\n",
        "dataku.insert(1, \"wanita\")\n",
        "print(dataku)"
      ],
      "metadata": {
        "colab": {
          "base_uri": "https://localhost:8080/"
        },
        "id": "hIdfd-HrX8T7",
        "outputId": "256d7b3d-fa50-4813-beeb-9691458a9731"
      },
      "execution_count": null,
      "outputs": [
        {
          "output_type": "stream",
          "name": "stdout",
          "text": [
            "['hani', 'wanita', 18.6, 1, True]\n"
          ]
        }
      ]
    },
    {
      "cell_type": "code",
      "source": [
        "# menambahkan list lain\n",
        "# dengan metode .extend()\n",
        "dataku = [\"hani\", 18.6, 1, True]\n",
        "dataku.extend([\"wanita\", \"cute\"])\n",
        "print(dataku)"
      ],
      "metadata": {
        "colab": {
          "base_uri": "https://localhost:8080/"
        },
        "id": "9NuJFbXG-3kG",
        "outputId": "1a614413-a5de-4223-87ff-dca09a02888f"
      },
      "execution_count": null,
      "outputs": [
        {
          "output_type": "stream",
          "name": "stdout",
          "text": [
            "['hani', 18.6, 1, True, 'wanita', 'cute']\n"
          ]
        }
      ]
    },
    {
      "cell_type": "code",
      "source": [
        "# menambahkan list lain (2)\n",
        "# dengan metode .extend()\n",
        "dataku = [\"hani\", 18.6, 1, True]\n",
        "dataku2 = [\"wanita\", \"cute\"]\n",
        "dataku.extend(dataku2)\n",
        "print(dataku)"
      ],
      "metadata": {
        "colab": {
          "base_uri": "https://localhost:8080/"
        },
        "id": "a4WZCg08YPwM",
        "outputId": "61650479-aa53-41b6-cf28-1de46bd2faf9"
      },
      "execution_count": null,
      "outputs": [
        {
          "output_type": "stream",
          "name": "stdout",
          "text": [
            "['hani', 18.6, 1, True, 'wanita', 'cute']\n"
          ]
        }
      ]
    },
    {
      "cell_type": "code",
      "source": [
        "# menambahkan data ke dalam list dg tipe collection lain\n",
        "# dengan metode .extend()\n",
        "dataku = [\"hani\", 18.6, 1, True]\n",
        "datatuple = (12, \"pretty\")\n",
        "dataku.extend(datatuple)\n",
        "print(dataku)"
      ],
      "metadata": {
        "colab": {
          "base_uri": "https://localhost:8080/"
        },
        "id": "QzuvgtFDYprg",
        "outputId": "939f5685-1a98-4d3f-d691-a9c2b3ae1731"
      },
      "execution_count": null,
      "outputs": [
        {
          "output_type": "stream",
          "name": "stdout",
          "text": [
            "['hani', 18.6, 1, True, 12, 'pretty']\n"
          ]
        }
      ]
    },
    {
      "cell_type": "markdown",
      "source": [
        "**4. hapus data item dalam list**"
      ],
      "metadata": {
        "id": "Acd9XXNaZC14"
      }
    },
    {
      "cell_type": "code",
      "source": [
        "# hapus item\n",
        "# dengan del\n",
        "dataku = [\"hani\", 18.6, 1, True]\n",
        "del dataku[2]\n",
        "print(dataku)"
      ],
      "metadata": {
        "colab": {
          "base_uri": "https://localhost:8080/"
        },
        "id": "Wf4IIW8p9EGa",
        "outputId": "22fc6666-098e-428d-8307-b13a6de9e473"
      },
      "execution_count": null,
      "outputs": [
        {
          "output_type": "stream",
          "name": "stdout",
          "text": [
            "['hani', 18.6, True]\n"
          ]
        }
      ]
    },
    {
      "cell_type": "code",
      "source": [
        "# hapus item\n",
        "# dengan metode .remove()\n",
        "dataku = [\"hani\", 18.6, 1, True]\n",
        "dataku.remove(1)\n",
        "print(dataku)"
      ],
      "metadata": {
        "colab": {
          "base_uri": "https://localhost:8080/"
        },
        "id": "HRPTCMlHZMLM",
        "outputId": "2a7dd295-c89c-4cc7-f5a2-1ff7ac376b04"
      },
      "execution_count": null,
      "outputs": [
        {
          "output_type": "stream",
          "name": "stdout",
          "text": [
            "['hani', 18.6, True]\n"
          ]
        }
      ]
    },
    {
      "cell_type": "code",
      "source": [
        "# hapus item\n",
        "# dengan metode .pop()\n",
        "dataku = [\"hani\", 18.6, 1, True]\n",
        "dataku.pop(2)\n",
        "print(dataku)"
      ],
      "metadata": {
        "colab": {
          "base_uri": "https://localhost:8080/"
        },
        "id": "FHePoZWSZe-E",
        "outputId": "b67b7a2b-f2e2-434b-8f21-85ef8acb640c"
      },
      "execution_count": null,
      "outputs": [
        {
          "output_type": "stream",
          "name": "stdout",
          "text": [
            "['hani', 18.6, True]\n"
          ]
        }
      ]
    },
    {
      "cell_type": "code",
      "source": [
        "# hapus last item\n",
        "# dengan metode .pop()\n",
        "dataku = [\"hani\", 18.6, 1, True]\n",
        "dataku.pop()\n",
        "print(dataku)"
      ],
      "metadata": {
        "colab": {
          "base_uri": "https://localhost:8080/"
        },
        "id": "QhcDsriXZtna",
        "outputId": "75970720-9e02-4177-8569-343b3e8ca5ab"
      },
      "execution_count": null,
      "outputs": [
        {
          "output_type": "stream",
          "name": "stdout",
          "text": [
            "['hani', 18.6, 1]\n"
          ]
        }
      ]
    },
    {
      "cell_type": "code",
      "source": [
        "# clear list\n",
        "# dengan metode .clear()\n",
        "dataku = [\"hani\", 18.6, 1, True]\n",
        "dataku.clear()\n",
        "print(dataku)"
      ],
      "metadata": {
        "colab": {
          "base_uri": "https://localhost:8080/"
        },
        "id": "anhXpsa_Z3-g",
        "outputId": "50be945f-6642-4e9b-afee-322d6135e5d6"
      },
      "execution_count": null,
      "outputs": [
        {
          "output_type": "stream",
          "name": "stdout",
          "text": [
            "[]\n"
          ]
        }
      ]
    },
    {
      "cell_type": "markdown",
      "source": [
        "**5. hitung banyak data dalam list**"
      ],
      "metadata": {
        "id": "WT6PrxfdSRBv"
      }
    },
    {
      "cell_type": "code",
      "source": [
        "# menghitung banyakk data\n",
        "dataku = [\"hani\", 18.6, 1, True, \"hani\"]\n",
        "print(len(dataku))"
      ],
      "metadata": {
        "colab": {
          "base_uri": "https://localhost:8080/"
        },
        "id": "zql7_i6sQ97R",
        "outputId": "3b1f5b06-2d89-4025-9cc3-ebe303951f7a"
      },
      "execution_count": null,
      "outputs": [
        {
          "output_type": "stream",
          "name": "stdout",
          "text": [
            "5\n"
          ]
        }
      ]
    },
    {
      "cell_type": "markdown",
      "source": [
        "**6. cek ketersediaan item**"
      ],
      "metadata": {
        "id": "_AIg4GDOVZqd"
      }
    },
    {
      "cell_type": "code",
      "source": [
        "dataku = [\"hani\", 18.6, 1, True, \"hani\"]\n",
        "if \"hani\" in dataku:\n",
        "    print(\"ada, di index ke-\", dataku.index(\"hani\"))\n",
        "else:\n",
        "    print(\"tidak ada\")"
      ],
      "metadata": {
        "colab": {
          "base_uri": "https://localhost:8080/"
        },
        "id": "qWosXgMGVkh7",
        "outputId": "2c4c4826-ecc3-4f6d-eb25-4892a8c7e2d9"
      },
      "execution_count": 1,
      "outputs": [
        {
          "output_type": "stream",
          "name": "stdout",
          "text": [
            "ada, di index ke- 0\n"
          ]
        }
      ]
    },
    {
      "cell_type": "code",
      "source": [
        "dataku = [\"hani\", 18.6, 1, True, \"hani\"]\n",
        "if 12 in dataku:\n",
        "    print(\"ada\")\n",
        "else:\n",
        "    print(\"tidak ada\")"
      ],
      "metadata": {
        "colab": {
          "base_uri": "https://localhost:8080/"
        },
        "id": "Q4N4RwC9Vun9",
        "outputId": "fe3cf428-2cb6-408d-f8c3-8537988e01be"
      },
      "execution_count": null,
      "outputs": [
        {
          "output_type": "stream",
          "name": "stdout",
          "text": [
            "tidak ada\n"
          ]
        }
      ]
    },
    {
      "cell_type": "markdown",
      "source": [
        "**7. data duplikat**"
      ],
      "metadata": {
        "id": "J0eORYRAW0Nc"
      }
    },
    {
      "cell_type": "code",
      "source": [
        "# list dengan data duplikat\n",
        "dataku = [\"hani\", 18.6, 1, True, \"hani\"]\n",
        "print(dataku)"
      ],
      "metadata": {
        "id": "xGDbKTZIAGX7",
        "colab": {
          "base_uri": "https://localhost:8080/"
        },
        "outputId": "1971c006-9dc7-479b-be45-cb18e40b4630"
      },
      "execution_count": null,
      "outputs": [
        {
          "output_type": "stream",
          "name": "stdout",
          "text": [
            "['hani', 18.6, 1, True, 'hani']\n"
          ]
        }
      ]
    },
    {
      "cell_type": "markdown",
      "source": [
        "**8. iterable**"
      ],
      "metadata": {
        "id": "d9ovxKnZSHMz"
      }
    },
    {
      "cell_type": "code",
      "source": [
        "angka = [x for x in range(11)]\n",
        "print(angka)"
      ],
      "metadata": {
        "colab": {
          "base_uri": "https://localhost:8080/"
        },
        "id": "fBVDZZhOSOPP",
        "outputId": "45caaab0-1d93-4b64-aaad-82543d84ce99"
      },
      "execution_count": 2,
      "outputs": [
        {
          "output_type": "stream",
          "name": "stdout",
          "text": [
            "[0, 1, 2, 3, 4, 5, 6, 7, 8, 9, 10]\n"
          ]
        }
      ]
    },
    {
      "cell_type": "code",
      "source": [
        "angka = [x for x in range(11) if x < 6 and x != 0]\n",
        "print(angka)"
      ],
      "metadata": {
        "colab": {
          "base_uri": "https://localhost:8080/"
        },
        "id": "JOCVgSoUSYUS",
        "outputId": "cb73117e-1ef8-4871-f161-16c8672a30ee"
      },
      "execution_count": 15,
      "outputs": [
        {
          "output_type": "stream",
          "name": "stdout",
          "text": [
            "[1, 2, 3, 4, 5]\n"
          ]
        }
      ]
    },
    {
      "cell_type": "markdown",
      "source": [
        "**9. expression**"
      ],
      "metadata": {
        "id": "uoMOiTC8Sigj"
      }
    },
    {
      "cell_type": "code",
      "source": [
        "# manipulasi data\n",
        "# kapital dengan upper()\n",
        "hewan = [\"kucing\", \"beruang\", \"landak\", \"burung\", \"dinosaurus\", \"elang\"]\n",
        "hewan_new = [h.upper() for h in hewan]\n",
        "print(hewan)\n",
        "print(hewan_new)"
      ],
      "metadata": {
        "colab": {
          "base_uri": "https://localhost:8080/"
        },
        "id": "tQ2qpyvoShPP",
        "outputId": "27f3d579-e316-4c68-8ba7-d5ce27dc92d3"
      },
      "execution_count": 18,
      "outputs": [
        {
          "output_type": "stream",
          "name": "stdout",
          "text": [
            "['kucing', 'beruang', 'landak', 'burung', 'dinosaurus', 'elang']\n",
            "['KUCING', 'BERUANG', 'LANDAK', 'BURUNG', 'DINOSAURUS', 'ELANG']\n"
          ]
        }
      ]
    },
    {
      "cell_type": "code",
      "source": [
        "# manipulasi data\n",
        "# kecil dengan lower()\n",
        "hewan_new = ['KUCING', 'BERUANG', 'LANDAK', 'BURUNG', 'DINOSAURUS', 'ELANG']\n",
        "hewan = [h.lower() for h in hewan]\n",
        "print(hewan_new)\n",
        "print(hewan)"
      ],
      "metadata": {
        "colab": {
          "base_uri": "https://localhost:8080/"
        },
        "id": "Po7QsWJ3TxSv",
        "outputId": "e7cdf6da-0846-49e7-b478-8e69ad2b77fb"
      },
      "execution_count": 19,
      "outputs": [
        {
          "output_type": "stream",
          "name": "stdout",
          "text": [
            "['KUCING', 'BERUANG', 'LANDAK', 'BURUNG', 'DINOSAURUS', 'ELANG']\n",
            "['kucing', 'beruang', 'landak', 'burung', 'dinosaurus', 'elang']\n"
          ]
        }
      ]
    },
    {
      "cell_type": "markdown",
      "source": [
        "**10. sort list**"
      ],
      "metadata": {
        "id": "Z8yNBYPgad67"
      }
    },
    {
      "cell_type": "markdown",
      "source": [
        "a. ascending"
      ],
      "metadata": {
        "id": "wyBcnMBRWDB-"
      }
    },
    {
      "cell_type": "code",
      "source": [
        "hewan = [\"kucing\", \"beruang\", \"landak\", \"burung\", \"dinosaurus\", \"elang\"]\n",
        "hewan.sort()\n",
        "print(hewan)"
      ],
      "metadata": {
        "colab": {
          "base_uri": "https://localhost:8080/"
        },
        "id": "bL4tHjvmVU8C",
        "outputId": "34ec65ab-d920-49bd-868e-0197b84a6e78"
      },
      "execution_count": 20,
      "outputs": [
        {
          "output_type": "stream",
          "name": "stdout",
          "text": [
            "['beruang', 'burung', 'dinosaurus', 'elang', 'kucing', 'landak']\n"
          ]
        }
      ]
    },
    {
      "cell_type": "code",
      "source": [
        "angka = [19, 80, 49, 30, 11, 1, 98, 76]\n",
        "angka.sort()\n",
        "print(angka)"
      ],
      "metadata": {
        "colab": {
          "base_uri": "https://localhost:8080/"
        },
        "id": "uJKXuX9gVYkc",
        "outputId": "43dfbabd-7970-4b89-fb3d-ed5aacd8ec3e"
      },
      "execution_count": 21,
      "outputs": [
        {
          "output_type": "stream",
          "name": "stdout",
          "text": [
            "[1, 11, 19, 30, 49, 76, 80, 98]\n"
          ]
        }
      ]
    },
    {
      "cell_type": "markdown",
      "source": [
        "b. descending"
      ],
      "metadata": {
        "id": "FYBwHRfwVson"
      }
    },
    {
      "cell_type": "code",
      "source": [
        "hewan = [\"kucing\", \"beruang\", \"landak\", \"burung\", \"dinosaurus\", \"elang\"]\n",
        "hewan.sort(reverse = True)\n",
        "print(hewan)"
      ],
      "metadata": {
        "colab": {
          "base_uri": "https://localhost:8080/"
        },
        "id": "nu6-lAY5VsQO",
        "outputId": "d5ed09bf-c6fa-4277-fc21-b714c183fdd1"
      },
      "execution_count": 22,
      "outputs": [
        {
          "output_type": "stream",
          "name": "stdout",
          "text": [
            "['landak', 'kucing', 'elang', 'dinosaurus', 'burung', 'beruang']\n"
          ]
        }
      ]
    },
    {
      "cell_type": "code",
      "source": [
        "angka = [19, 80, 49, 30, 11, 1, 98, 76]\n",
        "angka.sort(reverse = True)\n",
        "print(angka)"
      ],
      "metadata": {
        "colab": {
          "base_uri": "https://localhost:8080/"
        },
        "id": "kz-1gCCAV-oA",
        "outputId": "b5fcff82-0357-4f96-95fb-7bad7edc2d5d"
      },
      "execution_count": 23,
      "outputs": [
        {
          "output_type": "stream",
          "name": "stdout",
          "text": [
            "[98, 80, 76, 49, 30, 19, 11, 1]\n"
          ]
        }
      ]
    },
    {
      "cell_type": "markdown",
      "source": [
        "c. case insensitive sort"
      ],
      "metadata": {
        "id": "DvV1PowyWlBG"
      }
    },
    {
      "cell_type": "code",
      "source": [
        "hewan = [\"Kucing\", \"beruang\", \"landak\", \"Burung\", \"Dinosaurus\", \"elang\"]\n",
        "hewan.sort()\n",
        "print(hewan)"
      ],
      "metadata": {
        "colab": {
          "base_uri": "https://localhost:8080/"
        },
        "id": "YT4Dw3spWors",
        "outputId": "cb86d982-6b71-4a6b-a4a0-ab45632eb60d"
      },
      "execution_count": 24,
      "outputs": [
        {
          "output_type": "stream",
          "name": "stdout",
          "text": [
            "['Burung', 'Dinosaurus', 'Kucing', 'beruang', 'elang', 'landak']\n"
          ]
        }
      ]
    },
    {
      "cell_type": "code",
      "source": [
        "hewan = [\"Kucing\", \"beruang\", \"landak\", \"Burung\", \"Dinosaurus\", \"elang\"]\n",
        "hewan.sort(key = str.lower)\n",
        "print(hewan)"
      ],
      "metadata": {
        "colab": {
          "base_uri": "https://localhost:8080/"
        },
        "id": "zxfJspAKW5QO",
        "outputId": "2a4f1df3-8a58-426e-9891-cc1c8239aa54"
      },
      "execution_count": 25,
      "outputs": [
        {
          "output_type": "stream",
          "name": "stdout",
          "text": [
            "['beruang', 'Burung', 'Dinosaurus', 'elang', 'Kucing', 'landak']\n"
          ]
        }
      ]
    },
    {
      "cell_type": "markdown",
      "source": [
        "d. sort reverse"
      ],
      "metadata": {
        "id": "V4hZV_D3XT8W"
      }
    },
    {
      "cell_type": "code",
      "source": [
        "hewan = [\"kucing\", \"beruang\", \"landak\", \"burung\", \"dinosaurus\", \"elang\"]\n",
        "hewan.reverse()\n",
        "print(hewan)"
      ],
      "metadata": {
        "colab": {
          "base_uri": "https://localhost:8080/"
        },
        "id": "ZtJNE3jvXSIQ",
        "outputId": "e1f8ffa1-8788-44c4-a88b-7a8d1601c3bd"
      },
      "execution_count": 26,
      "outputs": [
        {
          "output_type": "stream",
          "name": "stdout",
          "text": [
            "['elang', 'dinosaurus', 'burung', 'landak', 'beruang', 'kucing']\n"
          ]
        }
      ]
    },
    {
      "cell_type": "markdown",
      "source": [
        "**11. copy list**"
      ],
      "metadata": {
        "id": "TWc-wwNoaocw"
      }
    },
    {
      "cell_type": "code",
      "source": [
        "hewan = [\"kucing\", \"beruang\", \"landak\", \"burung\", \"dinosaurus\", \"elang\"]\n",
        "hewanku = hewan.copy()\n",
        "print(hewanku)"
      ],
      "metadata": {
        "colab": {
          "base_uri": "https://localhost:8080/"
        },
        "id": "0lW37xrOXjfu",
        "outputId": "8cdad0d2-6b4b-4f8d-e712-ef1967ea4c20"
      },
      "execution_count": 27,
      "outputs": [
        {
          "output_type": "stream",
          "name": "stdout",
          "text": [
            "['kucing', 'beruang', 'landak', 'burung', 'dinosaurus', 'elang']\n"
          ]
        }
      ]
    },
    {
      "cell_type": "code",
      "source": [
        "hewan = [\"kucing\", \"beruang\", \"landak\", \"burung\", \"dinosaurus\", \"elang\"]\n",
        "hewanku = list(hewan)\n",
        "print(hewanku)"
      ],
      "metadata": {
        "colab": {
          "base_uri": "https://localhost:8080/"
        },
        "id": "JDPP2TifXw_G",
        "outputId": "ae324c48-53b0-47c2-9c40-6418191768e0"
      },
      "execution_count": 28,
      "outputs": [
        {
          "output_type": "stream",
          "name": "stdout",
          "text": [
            "['kucing', 'beruang', 'landak', 'burung', 'dinosaurus', 'elang']\n"
          ]
        }
      ]
    },
    {
      "cell_type": "markdown",
      "source": [
        "**12. join list**"
      ],
      "metadata": {
        "id": "UmhhbdZUavFJ"
      }
    },
    {
      "cell_type": "code",
      "source": [
        "hewan = [\"kucing\", \"beruang\", \"landak\", \"burung\", \"dinosaurus\", \"elang\"]\n",
        "jumlah = [2, 1, 3, 5, 6, 4]\n",
        "hewanku = hewan + jumlah\n",
        "print(hewanku)"
      ],
      "metadata": {
        "colab": {
          "base_uri": "https://localhost:8080/"
        },
        "id": "GKb7IaPyX5JY",
        "outputId": "0e7ff72e-0a2f-426a-885c-d1fe5b73bf25"
      },
      "execution_count": 30,
      "outputs": [
        {
          "output_type": "stream",
          "name": "stdout",
          "text": [
            "['kucing', 'beruang', 'landak', 'burung', 'dinosaurus', 'elang', 2, 1, 3, 5, 6, 4]\n"
          ]
        }
      ]
    },
    {
      "cell_type": "code",
      "source": [
        "hewan = [\"kucing\", \"beruang\", \"landak\", \"burung\", \"dinosaurus\", \"elang\"]\n",
        "jumlah = [2, 1, 3, 5, 6, 4]\n",
        "\n",
        "for h in jumlah:\n",
        "    hewan.append(h)\n",
        "\n",
        "print(hewan)"
      ],
      "metadata": {
        "colab": {
          "base_uri": "https://localhost:8080/"
        },
        "id": "3NesMfxvYYcb",
        "outputId": "ff2cf6db-e82d-42a6-8fcc-99b79163930a"
      },
      "execution_count": 31,
      "outputs": [
        {
          "output_type": "stream",
          "name": "stdout",
          "text": [
            "['kucing', 'beruang', 'landak', 'burung', 'dinosaurus', 'elang', 2, 1, 3, 5, 6, 4]\n"
          ]
        }
      ]
    },
    {
      "cell_type": "code",
      "source": [
        "hewan = [\"kucing\", \"beruang\", \"landak\", \"burung\", \"dinosaurus\", \"elang\"]\n",
        "jumlah = [2, 1, 3, 5, 6, 4]\n",
        "\n",
        "hewan.extend(jumlah)\n",
        "print(hewan)"
      ],
      "metadata": {
        "colab": {
          "base_uri": "https://localhost:8080/"
        },
        "id": "bF-GOeYcYin3",
        "outputId": "9412da7b-01e1-4659-b167-5b1fb69fefd2"
      },
      "execution_count": 32,
      "outputs": [
        {
          "output_type": "stream",
          "name": "stdout",
          "text": [
            "['kucing', 'beruang', 'landak', 'burung', 'dinosaurus', 'elang', 2, 1, 3, 5, 6, 4]\n"
          ]
        }
      ]
    },
    {
      "cell_type": "markdown",
      "source": [
        "## Tuple"
      ],
      "metadata": {
        "id": "ZC1R_4TQC7ic"
      }
    },
    {
      "cell_type": "code",
      "source": [
        "tuple_hani = ()\n",
        "print(type(tuple_hani))"
      ],
      "metadata": {
        "id": "_lcTRa2cEWfe",
        "colab": {
          "base_uri": "https://localhost:8080/"
        },
        "outputId": "94ed62fb-aaf2-488b-e589-55e8f025231e"
      },
      "execution_count": null,
      "outputs": [
        {
          "output_type": "stream",
          "name": "stdout",
          "text": [
            "<class 'tuple'>\n"
          ]
        }
      ]
    },
    {
      "cell_type": "markdown",
      "source": [
        "**1. membuat tuple**"
      ],
      "metadata": {
        "id": "jSf1CIcebkrC"
      }
    },
    {
      "cell_type": "code",
      "source": [
        "tuple_hani = (\"wanita\", 100, 1.0, True)"
      ],
      "metadata": {
        "id": "091oNNGUDCyG"
      },
      "execution_count": null,
      "outputs": []
    },
    {
      "cell_type": "code",
      "source": [
        "# jangan lupakan koma nya\n",
        "tuple_hani = (\"wanita\",)\n",
        "print(type(tuple_hani))\n",
        "\n",
        "tuple_hani = (\"wanita\")\n",
        "print(type(tuple_hani))"
      ],
      "metadata": {
        "colab": {
          "base_uri": "https://localhost:8080/"
        },
        "id": "Pa8QLJqbbI9M",
        "outputId": "3367d0d5-4953-4d53-cd58-ea3561bbe27a"
      },
      "execution_count": 3,
      "outputs": [
        {
          "output_type": "stream",
          "name": "stdout",
          "text": [
            "<class 'tuple'>\n",
            "<class 'str'>\n"
          ]
        }
      ]
    },
    {
      "cell_type": "markdown",
      "source": [
        "**2. menampilkan / akses item tuple**"
      ],
      "metadata": {
        "id": "hnZzyLAbfMUt"
      }
    },
    {
      "cell_type": "code",
      "source": [
        "tuple_hani = (\"wanita\", 100, 1.0, True)\n",
        "print(tuple_hani[0])  # index = 0\n",
        "print(tuple_hani[1])  # index positif\n",
        "print(tuple_hani[-1]) # index negatif\n",
        "print(tuple_hani[0:4]) # range index positif\n",
        "print(tuple_hani[:3])\n",
        "print(tuple_hani[1:])\n",
        "print(tuple_hani[-3:-1]) # range index negatif\n",
        "print(tuple_hani[:-3])\n",
        "print(tuple_hani[-2:])"
      ],
      "metadata": {
        "colab": {
          "base_uri": "https://localhost:8080/"
        },
        "id": "XWf_EJeoEwRX",
        "outputId": "aa9c46e8-0957-4ea3-925b-2d077357a6ba"
      },
      "execution_count": null,
      "outputs": [
        {
          "output_type": "stream",
          "name": "stdout",
          "text": [
            "wanita\n",
            "100\n",
            "True\n",
            "('wanita', 100, 1.0, True)\n",
            "('wanita', 100, 1.0)\n",
            "(100, 1.0, True)\n",
            "(100, 1.0)\n",
            "('wanita',)\n",
            "(1.0, True)\n"
          ]
        }
      ]
    },
    {
      "cell_type": "markdown",
      "source": [
        "**menampilkan / akses item tuple dengan loop**"
      ],
      "metadata": {
        "id": "QBHzX5QFb7zm"
      }
    },
    {
      "cell_type": "code",
      "source": [
        "tuple_hani = (\"wanita\", 100, 1.0, True)\n",
        "for t in tuple_hani:\n",
        "    print(t)"
      ],
      "metadata": {
        "colab": {
          "base_uri": "https://localhost:8080/"
        },
        "id": "Ovq0N_C3bfVN",
        "outputId": "17cc65ce-7c55-4a34-98a5-75a482962dba"
      },
      "execution_count": 4,
      "outputs": [
        {
          "output_type": "stream",
          "name": "stdout",
          "text": [
            "wanita\n",
            "100\n",
            "1.0\n",
            "True\n"
          ]
        }
      ]
    },
    {
      "cell_type": "code",
      "source": [
        "tuple_hani = (\"wanita\", 100, 1.0, True)\n",
        "for i in range(len(tuple_hani)):\n",
        "    print(i, tuple_hani[i])"
      ],
      "metadata": {
        "colab": {
          "base_uri": "https://localhost:8080/"
        },
        "id": "oAt-t9meblRD",
        "outputId": "de26441c-1004-4776-bdd3-208530c2fa70"
      },
      "execution_count": 5,
      "outputs": [
        {
          "output_type": "stream",
          "name": "stdout",
          "text": [
            "0 wanita\n",
            "1 100\n",
            "2 1.0\n",
            "3 True\n"
          ]
        }
      ]
    },
    {
      "cell_type": "code",
      "source": [
        "tuple_hani = (\"wanita\", 100, 1.0, True)\n",
        "i = 0\n",
        "while i < len(tuple_hani):\n",
        "    print(i, tuple_hani[i])\n",
        "    i += 1"
      ],
      "metadata": {
        "colab": {
          "base_uri": "https://localhost:8080/"
        },
        "id": "xvVgNCZ9bpuc",
        "outputId": "9c1c74a0-385f-4881-fcfb-d559832536cc"
      },
      "execution_count": 6,
      "outputs": [
        {
          "output_type": "stream",
          "name": "stdout",
          "text": [
            "0 wanita\n",
            "1 100\n",
            "2 1.0\n",
            "3 True\n"
          ]
        }
      ]
    },
    {
      "cell_type": "code",
      "source": [
        "tuple_hani = (\"wanita\", 100, 1.0, True)\n",
        "if True in tuple_hani:\n",
        "    print(\"ada\")\n",
        "else:\n",
        "    print(\"tidak ada\")"
      ],
      "metadata": {
        "colab": {
          "base_uri": "https://localhost:8080/"
        },
        "id": "m3hihAu0bvKB",
        "outputId": "bca75cf8-793c-426f-b7ae-385cf8a2736d"
      },
      "execution_count": 7,
      "outputs": [
        {
          "output_type": "stream",
          "name": "stdout",
          "text": [
            "ada\n"
          ]
        }
      ]
    },
    {
      "cell_type": "markdown",
      "source": [
        "**2. hitung banyak data dalam tuple**"
      ],
      "metadata": {
        "id": "KTI1A7KtZf3-"
      }
    },
    {
      "cell_type": "code",
      "source": [
        "tuple_hani = (\"wanita\", 100, 1.0, True)\n",
        "print(len(tuple_hani))"
      ],
      "metadata": {
        "colab": {
          "base_uri": "https://localhost:8080/"
        },
        "id": "tLoxYConev9n",
        "outputId": "a66d62c0-6765-4699-a6bb-8632c1824015"
      },
      "execution_count": null,
      "outputs": [
        {
          "output_type": "stream",
          "name": "stdout",
          "text": [
            "4\n"
          ]
        }
      ]
    },
    {
      "cell_type": "markdown",
      "source": [
        "**3. edit tuple**\n",
        "\n",
        "akan muncul error!\n",
        "\n",
        "plis aku mohon, sebaiknya jangan gegabah"
      ],
      "metadata": {
        "id": "6UyjSslUZslU"
      }
    },
    {
      "cell_type": "code",
      "source": [
        "tuple_hani = (\"wanita\", 100, 1.0, True)\n",
        "del tuple_hani[2]\n",
        "print(tuple_hani)"
      ],
      "metadata": {
        "id": "2Jf39-xTHYp4"
      },
      "execution_count": null,
      "outputs": []
    },
    {
      "cell_type": "markdown",
      "source": [
        "**4. mengubah value tuple**"
      ],
      "metadata": {
        "id": "BE4nGAHXcG0j"
      }
    },
    {
      "cell_type": "code",
      "source": [
        "tuple_hani = (\"wanita\", 100, 1.0, True)\n",
        "list_hani = list(tuple_hani)\n",
        "list_hani[0] = \"perempuan\"\n",
        "tuple_hani = tuple(list_hani)\n",
        "\n",
        "print(tuple_hani)"
      ],
      "metadata": {
        "colab": {
          "base_uri": "https://localhost:8080/"
        },
        "id": "HT2qQwvUcGiV",
        "outputId": "57298c45-3840-4aa4-de6a-58469584cc7d"
      },
      "execution_count": 11,
      "outputs": [
        {
          "output_type": "stream",
          "name": "stdout",
          "text": [
            "('perempuan', 100, 1.0, True)\n"
          ]
        }
      ]
    },
    {
      "cell_type": "markdown",
      "source": [
        "**5. menambahkan item tuple**"
      ],
      "metadata": {
        "id": "3zpnYZEAc4at"
      }
    },
    {
      "cell_type": "code",
      "source": [
        "tuple_hani = (\"wanita\", 100, 1.0, True)\n",
        "tuple_hani = tuple_hani + (\"cute\",)\n",
        "print(tuple_hani)"
      ],
      "metadata": {
        "colab": {
          "base_uri": "https://localhost:8080/"
        },
        "id": "J3han3Tnc7v3",
        "outputId": "1269b844-6edd-4326-dc46-8377db2cd095"
      },
      "execution_count": 12,
      "outputs": [
        {
          "output_type": "stream",
          "name": "stdout",
          "text": [
            "('wanita', 100, 1.0, True, 'cute')\n"
          ]
        }
      ]
    },
    {
      "cell_type": "code",
      "source": [
        "tuple_hani = (\"wanita\", 100, 1.0, True)\n",
        "print(tuple_hani)\n",
        "\n",
        "tuple_hani2 = list(tuple_hani)\n",
        "tuple_hani2.append(\"cute\")\n",
        "tuple_hani = tuple(tuple_hani2)\n",
        "print(tuple_hani)"
      ],
      "metadata": {
        "colab": {
          "base_uri": "https://localhost:8080/"
        },
        "id": "W7sP8uwydGOm",
        "outputId": "237448a9-4ac8-4379-d101-58dc7d6304d5"
      },
      "execution_count": 13,
      "outputs": [
        {
          "output_type": "stream",
          "name": "stdout",
          "text": [
            "('wanita', 100, 1.0, True)\n",
            "('wanita', 100, 1.0, True, 'cute')\n"
          ]
        }
      ]
    },
    {
      "cell_type": "markdown",
      "source": [
        "**6. remove item tuple**"
      ],
      "metadata": {
        "id": "pHscZ8Z8dd-C"
      }
    },
    {
      "cell_type": "code",
      "source": [
        "tuple_hani = (\"wanita\", 100, 1.0, True)\n",
        "print(tuple_hani)\n",
        "\n",
        "tuple_hani2 = list(tuple_hani)\n",
        "tuple_hani2.remove(1.0)\n",
        "tuple_hani = tuple(tuple_hani2)\n",
        "print(tuple_hani)"
      ],
      "metadata": {
        "colab": {
          "base_uri": "https://localhost:8080/"
        },
        "id": "IzSFHHFtditE",
        "outputId": "44426c52-1ba9-43f3-f633-c7b8340529bf"
      },
      "execution_count": 15,
      "outputs": [
        {
          "output_type": "stream",
          "name": "stdout",
          "text": [
            "('wanita', 100, 1.0, True)\n",
            "('wanita', 100, True)\n"
          ]
        }
      ]
    },
    {
      "cell_type": "markdown",
      "source": [
        "**7. data duplikat dalam tuple**"
      ],
      "metadata": {
        "id": "6DID2GLOaU4j"
      }
    },
    {
      "cell_type": "code",
      "source": [
        "tuple_hani = (\"wanita\", 100, 1.0, True, 1.0)\n",
        "print(tuple_hani)"
      ],
      "metadata": {
        "id": "8shcN2uzH1gz",
        "colab": {
          "base_uri": "https://localhost:8080/"
        },
        "outputId": "0f07297e-1b6a-4d46-cdd8-d302f85bd8cd"
      },
      "execution_count": 8,
      "outputs": [
        {
          "output_type": "stream",
          "name": "stdout",
          "text": [
            "('wanita', 100, 1.0, True, 1.0)\n"
          ]
        }
      ]
    },
    {
      "cell_type": "markdown",
      "source": [
        "**8. unpacking tuple**"
      ],
      "metadata": {
        "id": "y8kMpGI1eGJt"
      }
    },
    {
      "cell_type": "code",
      "source": [
        "cartoon = (\"mcqueen\", \"pocoyo\", \"minion\")\n",
        "\n",
        "(merah, biru, kuning) = cartoon\n",
        "\n",
        "print(merah)\n",
        "print(biru)\n",
        "print(kuning)"
      ],
      "metadata": {
        "colab": {
          "base_uri": "https://localhost:8080/"
        },
        "id": "BTBZNdIQevOV",
        "outputId": "3eb0d6e5-70d8-4149-dfc7-cd76a86b52ef"
      },
      "execution_count": 17,
      "outputs": [
        {
          "output_type": "stream",
          "name": "stdout",
          "text": [
            "mcqueen\n",
            "pocoyo\n",
            "minion\n"
          ]
        }
      ]
    },
    {
      "cell_type": "markdown",
      "source": [
        "**menggunakan asterisk (*)**"
      ],
      "metadata": {
        "id": "KL1jTSIEgCZO"
      }
    },
    {
      "cell_type": "code",
      "source": [
        "cartoon = (\"mcqueen\", \"pocoyo\", \"minion\", \"spongebob\", \"patrick\")\n",
        "\n",
        "(merah, biru, *kuning) = cartoon\n",
        "\n",
        "print(merah)\n",
        "print(biru)\n",
        "print(kuning)"
      ],
      "metadata": {
        "colab": {
          "base_uri": "https://localhost:8080/"
        },
        "id": "rVZCuHgwfYxr",
        "outputId": "145bbbf7-5bd1-4141-8963-816827388f1f"
      },
      "execution_count": 20,
      "outputs": [
        {
          "output_type": "stream",
          "name": "stdout",
          "text": [
            "mcqueen\n",
            "pocoyo\n",
            "['minion', 'spongebob', 'patrick']\n"
          ]
        }
      ]
    },
    {
      "cell_type": "code",
      "source": [
        "cartoon = (\"mcqueen\", \"pocoyo\", \"minion\", \"spongebob\", \"patrick\")\n",
        "\n",
        "(merah, *biru, kuning) = cartoon\n",
        "\n",
        "print(merah)\n",
        "print(biru)\n",
        "print(kuning)"
      ],
      "metadata": {
        "colab": {
          "base_uri": "https://localhost:8080/"
        },
        "id": "pD0UZeHQf3eO",
        "outputId": "0c71772c-1536-4854-e894-0c654a59de70"
      },
      "execution_count": 21,
      "outputs": [
        {
          "output_type": "stream",
          "name": "stdout",
          "text": [
            "mcqueen\n",
            "['pocoyo', 'minion', 'spongebob']\n",
            "patrick\n"
          ]
        }
      ]
    },
    {
      "cell_type": "code",
      "source": [
        "cartoon = (\"mcqueen\", \"pocoyo\", \"minion\", \"spongebob\", \"patrick\")\n",
        "\n",
        "(merah, biru, *kuning) = cartoon\n",
        "\n",
        "print(merah)\n",
        "print(biru)\n",
        "print(kuning)"
      ],
      "metadata": {
        "id": "UC2dUbXygBAA"
      },
      "execution_count": null,
      "outputs": []
    },
    {
      "cell_type": "markdown",
      "source": [
        "**9. join tuple**"
      ],
      "metadata": {
        "id": "9Zx--nPRgmqW"
      }
    },
    {
      "cell_type": "code",
      "source": [
        "cartoon = (\"mcqueen\", \"pocoyo\", \"minion\")\n",
        "film = (\"spiderman\", \"avatar\")\n",
        "\n",
        "nobar = cartoon + film\n",
        "print(nobar)"
      ],
      "metadata": {
        "colab": {
          "base_uri": "https://localhost:8080/"
        },
        "id": "wEZlhQADg3Rg",
        "outputId": "e46cccee-d0dc-4c7f-a747-29862fa90b27"
      },
      "execution_count": 22,
      "outputs": [
        {
          "output_type": "stream",
          "name": "stdout",
          "text": [
            "('mcqueen', 'pocoyo', 'minion', 'spiderman', 'avatar')\n"
          ]
        }
      ]
    },
    {
      "cell_type": "markdown",
      "source": [
        "**10. multiply tuple**"
      ],
      "metadata": {
        "id": "H0vgYXwuhNab"
      }
    },
    {
      "cell_type": "code",
      "source": [
        "film = (\"spiderman\", \"avatar\")\n",
        "nobar = film * 3\n",
        "print(nobar)"
      ],
      "metadata": {
        "colab": {
          "base_uri": "https://localhost:8080/"
        },
        "id": "3l57hwjqhQ0k",
        "outputId": "5bc033f7-a6f0-4e6d-fe39-23099310bef5"
      },
      "execution_count": 23,
      "outputs": [
        {
          "output_type": "stream",
          "name": "stdout",
          "text": [
            "('spiderman', 'avatar', 'spiderman', 'avatar', 'spiderman', 'avatar')\n"
          ]
        }
      ]
    },
    {
      "cell_type": "markdown",
      "source": [
        "## Set"
      ],
      "metadata": {
        "id": "9DbpnGS2IJpJ"
      }
    },
    {
      "cell_type": "code",
      "source": [
        "data_set = {\"\",}\n",
        "print(type(data_set))"
      ],
      "metadata": {
        "id": "N1LCn1aBIIPt",
        "colab": {
          "base_uri": "https://localhost:8080/"
        },
        "outputId": "aa0f1fe0-27e5-4715-d57f-122a95469d8d"
      },
      "execution_count": 30,
      "outputs": [
        {
          "output_type": "stream",
          "name": "stdout",
          "text": [
            "<class 'set'>\n"
          ]
        }
      ]
    },
    {
      "cell_type": "markdown",
      "source": [
        "**1. membuat set**"
      ],
      "metadata": {
        "id": "k_SMECPEhtwm"
      }
    },
    {
      "cell_type": "code",
      "source": [
        "data_set = {\"cute\", 12, 30.9, True}"
      ],
      "metadata": {
        "id": "ejOIEK9gLYkh"
      },
      "execution_count": null,
      "outputs": []
    },
    {
      "cell_type": "markdown",
      "source": [
        "**2. menambah item set**"
      ],
      "metadata": {
        "id": "3mp9ZYGphxl3"
      }
    },
    {
      "cell_type": "code",
      "source": [
        "# dengan metode .add()\n",
        "data_set = {\"cute\", 12, 30.9, True}\n",
        "data_set.add(\"hani\")\n",
        "print(data_set)"
      ],
      "metadata": {
        "colab": {
          "base_uri": "https://localhost:8080/"
        },
        "id": "wl88Y9sTNkwa",
        "outputId": "da4f986e-a38b-4df0-b85b-df1485692eab"
      },
      "execution_count": null,
      "outputs": [
        {
          "output_type": "stream",
          "name": "stdout",
          "text": [
            "{True, 'hani', 12, 'cute', 30.9}\n"
          ]
        }
      ]
    },
    {
      "cell_type": "code",
      "source": [
        "# dengan metode .update()\n",
        "data_set = {\"cute\", 12, 30.9, True}\n",
        "data_set.update([\"hani\", \"wanita\"])\n",
        "print(data_set)"
      ],
      "metadata": {
        "colab": {
          "base_uri": "https://localhost:8080/"
        },
        "id": "bLzTRtePjfRO",
        "outputId": "60b1decd-d1b0-4f58-db9e-f815fc4d431b"
      },
      "execution_count": 35,
      "outputs": [
        {
          "output_type": "stream",
          "name": "stdout",
          "text": [
            "{True, 12, 'wanita', 'hani', 30.9, 'cute'}\n"
          ]
        }
      ]
    },
    {
      "cell_type": "code",
      "source": [
        "# menambah item dengan join set lain\n",
        "# dengan metode .update() --2\n",
        "data_set = {\"cute\", 12, 30.9, True}\n",
        "data_set2 = {\"hani\", \"wanita\"}\n",
        "\n",
        "data_set.update(data_set2)\n",
        "print(data_set)"
      ],
      "metadata": {
        "colab": {
          "base_uri": "https://localhost:8080/"
        },
        "id": "RWSZy0XOkD63",
        "outputId": "4c48e688-eae9-4e57-eb43-3e138b61fd20"
      },
      "execution_count": 38,
      "outputs": [
        {
          "output_type": "stream",
          "name": "stdout",
          "text": [
            "{'wanita', True, 'hani', 12, 30.9, 'cute'}\n"
          ]
        }
      ]
    },
    {
      "cell_type": "code",
      "source": [
        "# menambah item dengan join set lain\n",
        "# dengan metode .union()\n",
        "data_set = {\"cute\", 12, 30.9, True}\n",
        "data_set2 = {\"hani\", \"wanita\"}\n",
        "data_set3 = data_set.union(data_set2)\n",
        "print(data_set3)"
      ],
      "metadata": {
        "colab": {
          "base_uri": "https://localhost:8080/"
        },
        "id": "xSHuDIXWj46r",
        "outputId": "22f06c59-8600-4f58-e5d7-b58ae7b42a6a"
      },
      "execution_count": 37,
      "outputs": [
        {
          "output_type": "stream",
          "name": "stdout",
          "text": [
            "{'wanita', True, 'hani', 12, 30.9, 'cute'}\n"
          ]
        }
      ]
    },
    {
      "cell_type": "markdown",
      "source": [
        "**3. menghapus item set**"
      ],
      "metadata": {
        "id": "1mNYHpa9kRhh"
      }
    },
    {
      "cell_type": "code",
      "source": [
        "# .remove()\n",
        "data_set = {\"cute\", 12, 30.9, True}\n",
        "data_set.remove(True)\n",
        "print(data_set)"
      ],
      "metadata": {
        "colab": {
          "base_uri": "https://localhost:8080/"
        },
        "id": "5RWlqSEQOLJd",
        "outputId": "018ee660-38e9-4885-dd9f-6631bc85b8fc"
      },
      "execution_count": null,
      "outputs": [
        {
          "output_type": "stream",
          "name": "stdout",
          "text": [
            "{12, 'cute', 30.9}\n"
          ]
        }
      ]
    },
    {
      "cell_type": "code",
      "source": [
        "# .discard\n",
        "data_set = {\"cute\", 12, 30.9, True}\n",
        "data_set.discard(30.9)\n",
        "print(data_set)"
      ],
      "metadata": {
        "colab": {
          "base_uri": "https://localhost:8080/"
        },
        "id": "_7i4r3UTkjLk",
        "outputId": "603864bc-7a1a-4405-c724-e69ac50ff8ae"
      },
      "execution_count": 39,
      "outputs": [
        {
          "output_type": "stream",
          "name": "stdout",
          "text": [
            "{True, 12, 'cute'}\n"
          ]
        }
      ]
    },
    {
      "cell_type": "code",
      "source": [
        "# .pop()\n",
        "data_set = {\"cute\", 12, 30.9, True}\n",
        "x = data_set.pop()\n",
        "print(data_set)\n",
        "print(x)"
      ],
      "metadata": {
        "colab": {
          "base_uri": "https://localhost:8080/"
        },
        "id": "BftAFL7JkunY",
        "outputId": "ca49a90d-073c-4d22-a7e1-5cab09a023a2"
      },
      "execution_count": 43,
      "outputs": [
        {
          "output_type": "stream",
          "name": "stdout",
          "text": [
            "{12, 30.9, 'cute'}\n",
            "True\n"
          ]
        }
      ]
    },
    {
      "cell_type": "code",
      "source": [
        "# .clear()\n",
        "data_set = {\"cute\", 12, 30.9, True}\n",
        "data_set.clear()\n",
        "print(data_set)"
      ],
      "metadata": {
        "colab": {
          "base_uri": "https://localhost:8080/"
        },
        "id": "Baaq3UZlk4TF",
        "outputId": "410d3f7d-67f1-44c6-e0a9-830f001a3400"
      },
      "execution_count": 44,
      "outputs": [
        {
          "output_type": "stream",
          "name": "stdout",
          "text": [
            "set()\n"
          ]
        }
      ]
    },
    {
      "cell_type": "markdown",
      "source": [
        "**4. menampilkan / akses item set**"
      ],
      "metadata": {
        "id": "nHNgeJ8aiGc-"
      }
    },
    {
      "cell_type": "code",
      "source": [
        "# menampilkan data set dengan loop\n",
        "data_set = {\"cute\", 12, 30.9, True, True}\n",
        "\n",
        "for data in data_set:\n",
        "    print(data)"
      ],
      "metadata": {
        "colab": {
          "base_uri": "https://localhost:8080/"
        },
        "id": "SizS0ifokVVw",
        "outputId": "527b864a-7b2f-4020-9b4a-d39c503a614f"
      },
      "execution_count": null,
      "outputs": [
        {
          "output_type": "stream",
          "name": "stdout",
          "text": [
            "True\n",
            "cute\n",
            "12\n",
            "30.9\n"
          ]
        }
      ]
    },
    {
      "cell_type": "code",
      "source": [
        "# menampilkan data set dengan loop\n",
        "# menampilkan suatu elemen dalam data set\n",
        "data_set = {\"cute\", 12, 30.9, True}\n",
        "\n",
        "for data in data_set:\n",
        "    if data == \"cute\" or data is True:\n",
        "        print(data)"
      ],
      "metadata": {
        "colab": {
          "base_uri": "https://localhost:8080/"
        },
        "id": "cKIn9uTDkv2w",
        "outputId": "e8eb6613-aff8-4c72-ac53-81f18bbfda6d"
      },
      "execution_count": 32,
      "outputs": [
        {
          "output_type": "stream",
          "name": "stdout",
          "text": [
            "True\n",
            "cute\n"
          ]
        }
      ]
    },
    {
      "cell_type": "code",
      "source": [
        "# mengecek ketersediaan data\n",
        "data_set = {\"cute\", 12, 30.9, True}\n",
        "print(\"cute\" in data_set)"
      ],
      "metadata": {
        "colab": {
          "base_uri": "https://localhost:8080/"
        },
        "id": "Tpsrq8Cii1Ky",
        "outputId": "7759935e-398b-420c-afed-6965a3cdc6cb"
      },
      "execution_count": 34,
      "outputs": [
        {
          "output_type": "stream",
          "name": "stdout",
          "text": [
            "True\n"
          ]
        }
      ]
    },
    {
      "cell_type": "markdown",
      "source": [
        "**5. data duplikat set**"
      ],
      "metadata": {
        "id": "-Z-0d_0tiAQd"
      }
    },
    {
      "cell_type": "code",
      "source": [
        "data_set = {\"cute\", 12, 30.9, True, True}\n",
        "print(data_set)"
      ],
      "metadata": {
        "id": "TAvm_cE_PX9G",
        "colab": {
          "base_uri": "https://localhost:8080/"
        },
        "outputId": "f7d36997-eff1-461e-d59d-f4811be31eea"
      },
      "execution_count": null,
      "outputs": [
        {
          "output_type": "stream",
          "name": "stdout",
          "text": [
            "{True, 'cute', 12, 30.9}\n"
          ]
        }
      ]
    },
    {
      "cell_type": "markdown",
      "source": [
        "**6. hitung banyak item dalam set**"
      ],
      "metadata": {
        "id": "BaF6Th2NiYxL"
      }
    },
    {
      "cell_type": "code",
      "source": [
        "data_set = {\"cute\", 12, 30.9, True, True}\n",
        "print(len(data_set))"
      ],
      "metadata": {
        "colab": {
          "base_uri": "https://localhost:8080/"
        },
        "id": "m7trr5__iiA4",
        "outputId": "ff9918f3-c099-4c6a-9b8b-7014707095fd"
      },
      "execution_count": 45,
      "outputs": [
        {
          "output_type": "stream",
          "name": "stdout",
          "text": [
            "4\n"
          ]
        }
      ]
    },
    {
      "cell_type": "markdown",
      "source": [
        "**7. intersection**\n",
        "\n",
        "hanya mencetak data yang sama"
      ],
      "metadata": {
        "id": "YpXAp4jSleMZ"
      }
    },
    {
      "cell_type": "code",
      "source": [
        "cartoon = {\"cars\", \"barbie\", \"minion\"}\n",
        "transport = {\"bus\", \"cars\", \"train\"}\n",
        "\n",
        "cartoon.intersection_update(transport)\n",
        "print(cartoon)"
      ],
      "metadata": {
        "colab": {
          "base_uri": "https://localhost:8080/"
        },
        "id": "AhIePzGemOc1",
        "outputId": "7a8bf6c1-1baf-484f-bef8-0980205a091b"
      },
      "execution_count": 46,
      "outputs": [
        {
          "output_type": "stream",
          "name": "stdout",
          "text": [
            "{'cars'}\n"
          ]
        }
      ]
    },
    {
      "cell_type": "code",
      "source": [
        "cartoon = {\"cars\", \"barbie\", \"minion\"}\n",
        "transport = {\"bus\", \"cars\", \"train\"}\n",
        "sama = cartoon.intersection(transport)\n",
        "print(sama)"
      ],
      "metadata": {
        "colab": {
          "base_uri": "https://localhost:8080/"
        },
        "id": "FrO-etW_mxCd",
        "outputId": "d112042a-c4fe-4535-cdec-3373d0337e2a"
      },
      "execution_count": 48,
      "outputs": [
        {
          "output_type": "stream",
          "name": "stdout",
          "text": [
            "{'cars'}\n"
          ]
        }
      ]
    },
    {
      "cell_type": "markdown",
      "source": [
        "**8. not intersection**"
      ],
      "metadata": {
        "id": "qF9OVC2qm_Mj"
      }
    },
    {
      "cell_type": "code",
      "source": [
        "cartoon = {\"cars\", \"barbie\", \"minion\"}\n",
        "transport = {\"bus\", \"cars\", \"train\"}\n",
        "\n",
        "cartoon.symmetric_difference_update(transport)\n",
        "print(cartoon)"
      ],
      "metadata": {
        "colab": {
          "base_uri": "https://localhost:8080/"
        },
        "id": "fRCPRu6nnCTw",
        "outputId": "e690bd96-b93d-4baf-fd41-f1547d94942f"
      },
      "execution_count": 49,
      "outputs": [
        {
          "output_type": "stream",
          "name": "stdout",
          "text": [
            "{'barbie', 'minion', 'train', 'bus'}\n"
          ]
        }
      ]
    },
    {
      "cell_type": "code",
      "source": [
        "cartoon = {\"cars\", \"barbie\", \"minion\"}\n",
        "transport = {\"bus\", \"cars\", \"train\"}\n",
        "beda = cartoon.symmetric_difference(transport)\n",
        "print(beda)"
      ],
      "metadata": {
        "colab": {
          "base_uri": "https://localhost:8080/"
        },
        "id": "FD93g1WJnFjr",
        "outputId": "e9800777-81cd-4b37-aa88-ccba6e436a78"
      },
      "execution_count": 50,
      "outputs": [
        {
          "output_type": "stream",
          "name": "stdout",
          "text": [
            "{'barbie', 'minion', 'train', 'bus'}\n"
          ]
        }
      ]
    },
    {
      "cell_type": "markdown",
      "source": [
        "## Dictionary"
      ],
      "metadata": {
        "id": "ijTqluxWS9kU"
      }
    },
    {
      "cell_type": "code",
      "source": [
        "data_dict = {}\n",
        "print(type(data_dict))"
      ],
      "metadata": {
        "colab": {
          "base_uri": "https://localhost:8080/"
        },
        "id": "D1MhMnrfnQFG",
        "outputId": "c353469e-ee60-4808-8877-ae685a24442c"
      },
      "execution_count": 51,
      "outputs": [
        {
          "output_type": "stream",
          "name": "stdout",
          "text": [
            "<class 'dict'>\n"
          ]
        }
      ]
    },
    {
      "cell_type": "markdown",
      "source": [
        "**1. membuat dictionary**"
      ],
      "metadata": {
        "id": "SLcfdWRonT1k"
      }
    },
    {
      "cell_type": "code",
      "source": [
        "data_dict = {}\n",
        "data_dict = {\n",
        "    \"name\" : \"hani\",\n",
        "    \"female?\": True,\n",
        "    \"age\" : 18,\n",
        "    \"height/weight\" : \"158/52.5\"\n",
        "}"
      ],
      "metadata": {
        "id": "s7Z5rmmObj0u"
      },
      "execution_count": null,
      "outputs": []
    },
    {
      "cell_type": "markdown",
      "source": [
        "**2. menampilkan / akses item dict**"
      ],
      "metadata": {
        "id": "P5Txm4scnXNx"
      }
    },
    {
      "cell_type": "code",
      "source": [
        "# dengan menggunakan beberapa cara\n",
        "data_dict = {}\n",
        "data_dict = {\n",
        "    \"name\" : \"hani\",\n",
        "    \"female?\": True,\n",
        "    \"age\" : 18,\n",
        "    \"height/weight\" : \"158/52.5\"\n",
        "}\n",
        "print(f\"Nama: {data_dict['name']}\") # f-string\n",
        "print(f\"Female?: {data_dict['female?']}\") # f-string\n",
        "print(data_dict[\"age\"]) # memanggil value dg key\n",
        "print(data_dict.get(\"height/weight\")) # fungsi .get()"
      ],
      "metadata": {
        "colab": {
          "base_uri": "https://localhost:8080/"
        },
        "id": "M4IwuFbpWUX1",
        "outputId": "a84438f0-caa5-4065-a733-abbb5a024b45"
      },
      "execution_count": null,
      "outputs": [
        {
          "output_type": "stream",
          "name": "stdout",
          "text": [
            "Nama: hani\n",
            "Female?: True\n",
            "18\n",
            "158/52.5\n"
          ]
        }
      ]
    },
    {
      "cell_type": "code",
      "source": [
        "# menggunakan loop\n",
        "data_dict = {}\n",
        "data_dict = {\n",
        "    \"name\" : \"hani\",\n",
        "    \"female?\": True,\n",
        "    \"age\" : 18,\n",
        "    \"height/weight\" : \"158/52.5\"\n",
        "}\n",
        "\n",
        "for key, value in data_dict.items():\n",
        "    print(f\"{key}\\t= {value}\")"
      ],
      "metadata": {
        "colab": {
          "base_uri": "https://localhost:8080/"
        },
        "id": "ztSQF-sRnvTz",
        "outputId": "b8dcaa0b-907c-490d-cad8-12c49cbf7de8"
      },
      "execution_count": null,
      "outputs": [
        {
          "output_type": "stream",
          "name": "stdout",
          "text": [
            "name\t= hani\n",
            "female?\t= True\n",
            "age\t= 18\n",
            "height/weight\t= 158/52.5\n"
          ]
        }
      ]
    },
    {
      "cell_type": "markdown",
      "source": [
        "**3. edit dictionary**"
      ],
      "metadata": {
        "id": "o-ImkG2MnwjT"
      }
    },
    {
      "cell_type": "code",
      "source": [
        "# mengubah value\n",
        "# melalui key\n",
        "data_dict = {}\n",
        "data_dict = {\n",
        "    \"name\" : \"hani\",\n",
        "    \"female?\": True,\n",
        "    \"age\" : 18,\n",
        "    \"height/weight\" : \"158/52.5\"\n",
        "}\n",
        "data_dict[\"name\"] = \"zahra\"\n",
        "print(f\"Nama: {data_dict['name']}\")"
      ],
      "metadata": {
        "colab": {
          "base_uri": "https://localhost:8080/"
        },
        "id": "vdykH-PMjTqS",
        "outputId": "a5a873cb-890b-4e0b-a66b-3430370b29a1"
      },
      "execution_count": null,
      "outputs": [
        {
          "output_type": "stream",
          "name": "stdout",
          "text": [
            "Nama: zahra\n"
          ]
        }
      ]
    },
    {
      "cell_type": "code",
      "source": [
        "# mengubah value\n",
        "# menggunakan metode .update()\n",
        "data_dict = {}\n",
        "data_dict = {\n",
        "    \"name\" : \"hani\",\n",
        "    \"female?\": True,\n",
        "    \"age\" : 18,\n",
        "    \"height/weight\" : \"158/52.5\"\n",
        "}\n",
        "data_dict.update({\"height/weight\" : \"160/55\"})\n",
        "print(f\"height/weight: {data_dict['height/weight']}\")"
      ],
      "metadata": {
        "colab": {
          "base_uri": "https://localhost:8080/"
        },
        "id": "95D2FKKDkFRn",
        "outputId": "4afaab4b-8ea5-48e8-d4db-424555e5940b"
      },
      "execution_count": null,
      "outputs": [
        {
          "output_type": "stream",
          "name": "stdout",
          "text": [
            "height/weight: 160/55\n"
          ]
        }
      ]
    },
    {
      "cell_type": "code",
      "source": [
        "# mengubah value\n",
        "# menggunakan dictionary comprehension\n",
        "data_dict = {}\n",
        "data_dict = {\n",
        "    \"name\" : \"hani\",\n",
        "    \"female?\": True,\n",
        "    \"age\" : 18,\n",
        "    \"height/weight\" : \"158/52.5\"\n",
        "}\n",
        "\n",
        "data_dict = {\n",
        "    key: value + 1\n",
        "    if key == \"age\"\n",
        "    else value\n",
        "      for key, value in data_dict.items()}\n",
        "\n",
        "print(f\"age: {data_dict['age']}\")"
      ],
      "metadata": {
        "colab": {
          "base_uri": "https://localhost:8080/"
        },
        "id": "j5RwJK7klNYl",
        "outputId": "a26ab9ba-99a4-4840-e67d-67590aaeacbc"
      },
      "execution_count": null,
      "outputs": [
        {
          "output_type": "stream",
          "name": "stdout",
          "text": [
            "age: 19\n"
          ]
        }
      ]
    },
    {
      "cell_type": "code",
      "source": [
        "# menambahkan data\n",
        "data_dict = {}\n",
        "data_dict = {\n",
        "    \"name\" : \"hani\",\n",
        "    \"female?\": True,\n",
        "    \"age\" : 18,\n",
        "    \"height/weight\" : \"158/52.5\"\n",
        "}\n",
        "data_dict[\"job\"] = \"mahasiswa\"\n",
        "\n",
        "for key, value in data_dict.items():\n",
        "    print(f\"{key}\\t= {value}\")"
      ],
      "metadata": {
        "colab": {
          "base_uri": "https://localhost:8080/"
        },
        "id": "ixC9ASaXmqfj",
        "outputId": "b74104b1-f7de-4b54-dae2-5e3e398b68f3"
      },
      "execution_count": null,
      "outputs": [
        {
          "output_type": "stream",
          "name": "stdout",
          "text": [
            "name\t= hani\n",
            "female?\t= True\n",
            "age\t= 18\n",
            "height/weight\t= 158/52.5\n",
            "job\t= mahasiswa\n"
          ]
        }
      ]
    },
    {
      "cell_type": "code",
      "source": [
        "# menambahkan data dengan metode .update()\n",
        "data_dict = {}\n",
        "data_dict = {\n",
        "    \"name\" : \"hani\",\n",
        "    \"female?\": True,\n",
        "    \"age\" : 18,\n",
        "    \"height/weight\" : \"158/52.5\"\n",
        "}\n",
        "data_dict.update({\"job\" : \"mahasiswa\"})\n",
        "\n",
        "for key, value in data_dict.items():\n",
        "    print(f\"{key}\\t= {value}\")"
      ],
      "metadata": {
        "colab": {
          "base_uri": "https://localhost:8080/"
        },
        "id": "PL-D33MhpXJR",
        "outputId": "bebca76e-81b7-4cd3-a4f6-2023bdcf9221"
      },
      "execution_count": null,
      "outputs": [
        {
          "output_type": "stream",
          "name": "stdout",
          "text": [
            "name\t= hani\n",
            "female?\t= True\n",
            "age\t= 18\n",
            "height/weight\t= 158/52.5\n",
            "job\t= mahasiswa\n"
          ]
        }
      ]
    },
    {
      "cell_type": "markdown",
      "source": [
        "**4. hapus item dictionary**"
      ],
      "metadata": {
        "id": "YUYIW-gPsdOB"
      }
    },
    {
      "cell_type": "code",
      "source": [
        "# metode .pop()\n",
        "data_dict = {}\n",
        "data_dict = {\n",
        "    \"name\" : \"hani\",\n",
        "    \"female?\": True,\n",
        "    \"age\" : 18,\n",
        "    \"height/weight\" : \"158/52.5\"\n",
        "}\n",
        "\n",
        "data_dict.pop(\"female?\")\n",
        "for key, value in data_dict.items():\n",
        "    print(f\"{key}\\t= {value}\")"
      ],
      "metadata": {
        "colab": {
          "base_uri": "https://localhost:8080/"
        },
        "id": "idfbVn9dskBz",
        "outputId": "5fa6b699-86ab-4e61-a5b0-9cc6bf17deaf"
      },
      "execution_count": 58,
      "outputs": [
        {
          "output_type": "stream",
          "name": "stdout",
          "text": [
            "name\t= hani\n",
            "age\t= 18\n",
            "height/weight\t= 158/52.5\n"
          ]
        }
      ]
    },
    {
      "cell_type": "code",
      "source": [
        "# metode .popitem()\n",
        "# menghapus last item\n",
        "data_dict = {}\n",
        "data_dict = {\n",
        "    \"name\" : \"hani\",\n",
        "    \"female?\": True,\n",
        "    \"age\" : 18,\n",
        "    \"height/weight\" : \"158/52.5\"\n",
        "}\n",
        "\n",
        "data_dict.popitem()\n",
        "for key, value in data_dict.items():\n",
        "    print(f\"{key}\\t= {value}\")"
      ],
      "metadata": {
        "colab": {
          "base_uri": "https://localhost:8080/"
        },
        "id": "z8xTX9fcst85",
        "outputId": "136d51d5-f5ac-4c79-c10b-64f052522ba7"
      },
      "execution_count": 59,
      "outputs": [
        {
          "output_type": "stream",
          "name": "stdout",
          "text": [
            "name\t= hani\n",
            "female?\t= True\n",
            "age\t= 18\n"
          ]
        }
      ]
    },
    {
      "cell_type": "code",
      "source": [
        "# menggunakan del\n",
        "data_dict = {}\n",
        "data_dict = {\n",
        "    \"name\" : \"hani\",\n",
        "    \"female?\": True,\n",
        "    \"age\" : 18,\n",
        "    \"height/weight\" : \"158/52.5\"\n",
        "}\n",
        "\n",
        "del data_dict[\"female?\"]\n",
        "for key, value in data_dict.items():\n",
        "    print(f\"{key}\\t= {value}\")"
      ],
      "metadata": {
        "colab": {
          "base_uri": "https://localhost:8080/"
        },
        "id": "n7NnQXhws5tW",
        "outputId": "ea59450f-4120-4146-9284-721292bd7be3"
      },
      "execution_count": 60,
      "outputs": [
        {
          "output_type": "stream",
          "name": "stdout",
          "text": [
            "name\t= hani\n",
            "age\t= 18\n",
            "height/weight\t= 158/52.5\n"
          ]
        }
      ]
    },
    {
      "cell_type": "code",
      "source": [
        "# menggunakan .clear()\n",
        "data_dict = {}\n",
        "data_dict = {\n",
        "    \"name\" : \"hani\",\n",
        "    \"female?\": True,\n",
        "    \"age\" : 18,\n",
        "    \"height/weight\" : \"158/52.5\"\n",
        "}\n",
        "\n",
        "data_dict.clear()\n",
        "print(data_dict)"
      ],
      "metadata": {
        "colab": {
          "base_uri": "https://localhost:8080/"
        },
        "id": "iSZINZNTtNmH",
        "outputId": "04a9d61e-693d-4f38-a3c7-e122378bcdb7"
      },
      "execution_count": 61,
      "outputs": [
        {
          "output_type": "stream",
          "name": "stdout",
          "text": [
            "{}\n"
          ]
        }
      ]
    },
    {
      "cell_type": "markdown",
      "source": [
        "**5. duplikasi data (key) dictionary**\n",
        "\n",
        "yang disimpan hanya value key yang terakhir"
      ],
      "metadata": {
        "id": "MqtPslhup67S"
      }
    },
    {
      "cell_type": "code",
      "source": [
        "data_dict = {\n",
        "    \"name\" : \"hani\",\n",
        "    \"female?\": True,\n",
        "    \"age\" : 18,\n",
        "    \"age\" : 19,\n",
        "    \"height/weight\" : \"158/52.5\"\n",
        "}\n",
        "\n",
        "for key, value in data_dict.items():\n",
        "    print(f\"{key}\\t= {value}\")"
      ],
      "metadata": {
        "colab": {
          "base_uri": "https://localhost:8080/"
        },
        "id": "q0V1yPNkp50A",
        "outputId": "9aa86cda-86d0-41ac-b525-e8fc2a236850"
      },
      "execution_count": 52,
      "outputs": [
        {
          "output_type": "stream",
          "name": "stdout",
          "text": [
            "name\t= hani\n",
            "female?\t= True\n",
            "age\t= 19\n",
            "height/weight\t= 158/52.5\n"
          ]
        }
      ]
    },
    {
      "cell_type": "markdown",
      "source": [
        "**6. hitung banyak item dalam dictionary**"
      ],
      "metadata": {
        "id": "2KlvD16BqWkL"
      }
    },
    {
      "cell_type": "code",
      "source": [
        "data_dict = {\n",
        "    \"name\" : \"hani\",\n",
        "    \"female?\": True,\n",
        "    \"age\" : 18,\n",
        "    \"height/weight\" : \"158/52.5\"\n",
        "}\n",
        "\n",
        "print(len(data_dict))"
      ],
      "metadata": {
        "colab": {
          "base_uri": "https://localhost:8080/"
        },
        "id": "lWlkr2IjqkbT",
        "outputId": "4a9ebe33-039a-4586-d6a6-9cfa01d74e7f"
      },
      "execution_count": 54,
      "outputs": [
        {
          "output_type": "stream",
          "name": "stdout",
          "text": [
            "4\n"
          ]
        }
      ]
    },
    {
      "cell_type": "markdown",
      "source": [
        "**7. mendapatkan key dan value**"
      ],
      "metadata": {
        "id": "5DR4S-QOq4dT"
      }
    },
    {
      "cell_type": "code",
      "source": [
        "# key dengan .keys()\n",
        "data_dict = {\n",
        "    \"name\" : \"hani\",\n",
        "    \"female?\": True,\n",
        "    \"age\" : 18,\n",
        "    \"height/weight\" : \"158/52.5\"\n",
        "}\n",
        "\n",
        "x = data_dict.keys()\n",
        "print(x)"
      ],
      "metadata": {
        "colab": {
          "base_uri": "https://localhost:8080/"
        },
        "id": "JXo6mGvLq8gV",
        "outputId": "b45a1050-f26b-4e2e-e957-7830090d1a9d"
      },
      "execution_count": 55,
      "outputs": [
        {
          "output_type": "stream",
          "name": "stdout",
          "text": [
            "dict_keys(['name', 'female?', 'age', 'height/weight'])\n"
          ]
        }
      ]
    },
    {
      "cell_type": "code",
      "source": [
        "# value dengan .values()\n",
        "data_dict = {\n",
        "    \"name\" : \"hani\",\n",
        "    \"female?\": True,\n",
        "    \"age\" : 18,\n",
        "    \"height/weight\" : \"158/52.5\"\n",
        "}\n",
        "\n",
        "x = data_dict.values()\n",
        "print(x)"
      ],
      "metadata": {
        "colab": {
          "base_uri": "https://localhost:8080/"
        },
        "id": "pNpKaVp-rJci",
        "outputId": "3e63d440-3fca-48e9-b028-7ae389cad6f9"
      },
      "execution_count": 56,
      "outputs": [
        {
          "output_type": "stream",
          "name": "stdout",
          "text": [
            "dict_values(['hani', True, 18, '158/52.5'])\n"
          ]
        }
      ]
    },
    {
      "cell_type": "markdown",
      "source": [
        "**8. cek ketersediaan item**"
      ],
      "metadata": {
        "id": "6jjH9s9mrVZS"
      }
    },
    {
      "cell_type": "code",
      "source": [
        "# key\n",
        "data_dict = {\n",
        "    \"name\" : \"hani\",\n",
        "    \"female?\": True,\n",
        "    \"age\" : 18,\n",
        "    \"height/weight\" : \"158/52.5\"\n",
        "}\n",
        "\n",
        "if \"name\" in data_dict:\n",
        "    print(\"ada\")\n",
        "else:\n",
        "    print(\"tidak ada\")"
      ],
      "metadata": {
        "colab": {
          "base_uri": "https://localhost:8080/"
        },
        "id": "iSJfTtaurzBx",
        "outputId": "6d585834-333d-4f27-d7e4-5bfd201639a9"
      },
      "execution_count": 57,
      "outputs": [
        {
          "output_type": "stream",
          "name": "stdout",
          "text": [
            "ada\n"
          ]
        }
      ]
    },
    {
      "cell_type": "markdown",
      "source": [
        "**9. loop**"
      ],
      "metadata": {
        "id": "j6xW7oPbtfY1"
      }
    },
    {
      "cell_type": "code",
      "source": [
        "for key in data_dict:\n",
        "    print(key)"
      ],
      "metadata": {
        "id": "ykFc-ShWti05"
      },
      "execution_count": 62,
      "outputs": []
    },
    {
      "cell_type": "code",
      "source": [
        "for key in data_dict:\n",
        "    print(data_dict[key])"
      ],
      "metadata": {
        "id": "RKCnNn3Qtp1d"
      },
      "execution_count": null,
      "outputs": []
    },
    {
      "cell_type": "code",
      "source": [
        "for key in data_dict.keys():\n",
        "    print(key)"
      ],
      "metadata": {
        "id": "P6FZAKpAttD8"
      },
      "execution_count": null,
      "outputs": []
    },
    {
      "cell_type": "code",
      "source": [
        "for value in data_dict.values():\n",
        "    print(value)"
      ],
      "metadata": {
        "id": "OWgLOLiptwPT"
      },
      "execution_count": null,
      "outputs": []
    },
    {
      "cell_type": "code",
      "source": [
        "for key, value in data_dict.items():\n",
        "    print(key, value)"
      ],
      "metadata": {
        "id": "UepEk488tyc-"
      },
      "execution_count": null,
      "outputs": []
    },
    {
      "cell_type": "markdown",
      "source": [
        "**10. copy dictionary**"
      ],
      "metadata": {
        "id": "WeHK9iLFt6bg"
      }
    },
    {
      "cell_type": "code",
      "source": [
        "data_dict = {\n",
        "    \"name\" : \"hani\",\n",
        "    \"female?\": True,\n",
        "    \"age\" : 18,\n",
        "    \"height/weight\" : \"158/52.5\"\n",
        "}\n",
        "\n",
        "data_dict2 = data_dict.copy()\n",
        "\n",
        "for key, value in data_dict2.items():\n",
        "    print(f\"{key} : {value}\")"
      ],
      "metadata": {
        "colab": {
          "base_uri": "https://localhost:8080/"
        },
        "id": "Z86IXWaIt58A",
        "outputId": "cdb2ffc0-334e-432f-ef7f-2bed7dd2117d"
      },
      "execution_count": 64,
      "outputs": [
        {
          "output_type": "stream",
          "name": "stdout",
          "text": [
            "name : hani\n",
            "female? : True\n",
            "age : 18\n",
            "height/weight : 158/52.5\n"
          ]
        }
      ]
    },
    {
      "cell_type": "markdown",
      "source": [
        "**11. nested dictionary**"
      ],
      "metadata": {
        "id": "7SkIhpaZuY4m"
      }
    },
    {
      "cell_type": "code",
      "source": [
        "mypet = {\n",
        "    \"pet 1\" : {\n",
        "        \"name\" : \"coki\",\n",
        "        \"age\"  : 4\n",
        "    },\n",
        "    \"pet 2\" : {\n",
        "        \"name\" : \"cimi\",\n",
        "        \"age\"  : 2\n",
        "    },\n",
        "    \"pet 3\" : {\n",
        "        \"name\" : \"comi\",\n",
        "        \"age\"  : 1\n",
        "    }\n",
        "}\n",
        "\n",
        "print(mypet)"
      ],
      "metadata": {
        "colab": {
          "base_uri": "https://localhost:8080/"
        },
        "id": "bYC-fdrcvAK_",
        "outputId": "8898c90a-d0f4-4b22-df1d-1ea0f3eebdae"
      },
      "execution_count": 66,
      "outputs": [
        {
          "output_type": "stream",
          "name": "stdout",
          "text": [
            "{'pet 1': {'name': 'coki', 'age': 4}, 'pet 2': {'name': 'cimi', 'age': 2}, 'pet 3': {'name': 'comi', 'age': 1}}\n"
          ]
        }
      ]
    },
    {
      "cell_type": "code",
      "source": [
        "mypet = {\n",
        "    \"pet 1\" : {\n",
        "        \"name\" : \"coki\",\n",
        "        \"age\"  : 4\n",
        "    },\n",
        "    \"pet 2\" : {\n",
        "        \"name\" : \"cimi\",\n",
        "        \"age\"  : 2\n",
        "    },\n",
        "    \"pet 3\" : {\n",
        "        \"name\" : \"comi\",\n",
        "        \"age\"  : 1\n",
        "    }\n",
        "}\n",
        "\n",
        "for key, value in mypet.items():\n",
        "    print(f\"{key} : {value}\")"
      ],
      "metadata": {
        "colab": {
          "base_uri": "https://localhost:8080/"
        },
        "id": "B9v-t508udAn",
        "outputId": "f96fed64-df01-4133-8cb1-fc1fae17a672"
      },
      "execution_count": 65,
      "outputs": [
        {
          "output_type": "stream",
          "name": "stdout",
          "text": [
            "pet 1 : {'name': 'coki', 'age': 4}\n",
            "pet 2 : {'name': 'cimi', 'age': 2}\n",
            "pet 3 : {'name': 'comi', 'age': 1}\n"
          ]
        }
      ]
    },
    {
      "cell_type": "code",
      "source": [
        "mypet = {\n",
        "    \"pet 1\" : {\n",
        "        \"name\" : \"coki\",\n",
        "        \"age\"  : 4\n",
        "    },\n",
        "    \"pet 2\" : {\n",
        "        \"name\" : \"cimi\",\n",
        "        \"age\"  : 2\n",
        "    },\n",
        "    \"pet 3\" : {\n",
        "        \"name\" : \"comi\",\n",
        "        \"age\"  : 1\n",
        "    }\n",
        "}\n",
        "\n",
        "print(mypet[\"pet 1\"][\"name\"])"
      ],
      "metadata": {
        "colab": {
          "base_uri": "https://localhost:8080/"
        },
        "id": "G3Cav8IyvEJ1",
        "outputId": "5116b707-ff46-4566-a975-16b1ad8a438c"
      },
      "execution_count": 68,
      "outputs": [
        {
          "output_type": "stream",
          "name": "stdout",
          "text": [
            "coki\n"
          ]
        }
      ]
    },
    {
      "cell_type": "markdown",
      "source": [
        "# **Exercise**"
      ],
      "metadata": {
        "id": "copObpbXCugB"
      }
    },
    {
      "cell_type": "markdown",
      "source": [
        "## Weekly Exercise 2"
      ],
      "metadata": {
        "id": "9HHF9Thwka1t"
      }
    },
    {
      "cell_type": "markdown",
      "source": [
        "- Buatlah dan tentukan tipe collection untuk mengelola data kalian dengan rincian di bawah :<br/>\n",
        "    Nama : nama mahasiswa <br/>\n",
        "    Kelas : kelas mahasiswa <br/>\n",
        "    Tanggal Lahir : tanggal lahir mahasiswa <br/>\n",
        "    no hp : no hp mahasiswa <br/>\n",
        "    alamat : alamat mahasiswa <br/>\n",
        "    Hobi : <br/>\n",
        "    1. Hobi 1 <br/>\n",
        "    2. Hobi 2 <br/>\n",
        "    3. dst <br/>\n",
        "- Tampilkan seluruh data dengan teknik perulangan"
      ],
      "metadata": {
        "id": "aupJIV48kYNt"
      }
    },
    {
      "cell_type": "code",
      "source": [
        "# program untuk mengelola data mahasiswa\n",
        "# dengan menggunakan input\n",
        "\n",
        "data_mahasiswa = {}\n",
        "print(\"---Input Data Mahasiswa---\")\n",
        "\n",
        "data_mahasiswa = {\n",
        "    \"Nama\": input(\"Nama          : \"),\n",
        "    \"Kelas\": int(input(\"Kelas         : \")),\n",
        "    \"Tanggal Lahir\": input(\"Tanggal Lahir : \"),\n",
        "    \"No. HP\": int(input(\"No HP         : \")),\n",
        "    \"Alamat\": input(\"Alamat        : \"),\n",
        "    \"Hobi\": input(\"Hobi          : \") #pisahkan dengan koma jika > 1\n",
        "}\n",
        "\n",
        "# mengubah str value hobi menjadi list\n",
        "list_hobi = [Hobi.strip() for Hobi in data_mahasiswa[\"Hobi\"].split(\",\")]\n",
        "data_mahasiswa[\"Hobi\"] = list_hobi\n",
        "\n",
        "# program untuk menampilkan data mahasiswa\n",
        "print()\n",
        "print(\"--> Data Mahasiswa <--\")\n",
        "for key, value in data_mahasiswa.items():\n",
        "    if key == \"Hobi\":\n",
        "       print(f\"{key}\\t\\t=\")\n",
        "       i = 1\n",
        "       for Hobi in value:\n",
        "           print(f\"\\t\\t  {i}. {Hobi}\")\n",
        "           i += 1\n",
        "    elif key == \"Tanggal Lahir\":\n",
        "       print(f\"{key}\\t= {value}\")\n",
        "    else:\n",
        "       print(f\"{key}\\t\\t= {value}\")"
      ],
      "metadata": {
        "colab": {
          "base_uri": "https://localhost:8080/"
        },
        "id": "NemN7at46gx5",
        "outputId": "c848d73a-fc48-41ec-c78b-83eb954bd09b"
      },
      "execution_count": null,
      "outputs": [
        {
          "output_type": "stream",
          "name": "stdout",
          "text": [
            "---Input Data Mahasiswa---\n",
            "Nama          : hani\n",
            "Kelas         : 01\n",
            "Tanggal Lahir : 12\n",
            "No HP         : 08988719023\n",
            "Alamat        : saragan 01/08 banyurojo\n",
            "Hobi          : memasak, mendengarkan musik\n",
            "\n",
            "--> Data Mahasiswa <--\n",
            "Nama\t\t= hani\n",
            "Kelas\t\t= 1\n",
            "Tanggal Lahir\t= 12\n",
            "No. HP\t\t= 8988719023\n",
            "Alamat\t\t= saragan 01/08 banyurojo\n",
            "Hobi\t\t=\n",
            "\t\t  1. memasak\n",
            "\t\t  2. mendengarkan musik\n"
          ]
        }
      ]
    },
    {
      "cell_type": "code",
      "source": [
        "# program untuk mengelola data mahasiswa\n",
        "# tanpa menggunakan input\n",
        "\n",
        "data_mahasiswa = {}\n",
        "\n",
        "data_mahasiswa = {\n",
        "    \"Nama\": \"Zahra Nibras Hanilatifa\",\n",
        "    \"Kelas\": \"01\",\n",
        "    \"Tanggal Lahir\": \"12 April\",\n",
        "    \"No. HP\": \"08988719023\",\n",
        "    \"Alamat\": \"Saragan 01/08 Banyurojo, Mertoyudan\",\n",
        "    \"Hobi\": \"masak, mendengarkan musik\"\n",
        "}\n",
        "\n",
        "# mengubah str value hobi menjadi list\n",
        "list_hobi = [Hobi.strip() for Hobi in data_mahasiswa[\"Hobi\"].split(\",\")]\n",
        "data_mahasiswa[\"Hobi\"] = list_hobi\n",
        "\n",
        "# program untuk menampilkan data mahasiswa\n",
        "print(\"--> Data Mahasiswa <--\")\n",
        "for key, value in data_mahasiswa.items():\n",
        "    if key == \"Hobi\":\n",
        "       print(f\"{key}\\t\\t=\")\n",
        "       i = 1\n",
        "       for Hobi in value:\n",
        "           print(f\"\\t\\t  {i}. {Hobi}\")\n",
        "           i += 1\n",
        "    elif key == \"Tanggal Lahir\":\n",
        "       print(f\"{key}\\t= {value}\")\n",
        "    else:\n",
        "       print(f\"{key}\\t\\t= {value}\")"
      ],
      "metadata": {
        "colab": {
          "base_uri": "https://localhost:8080/"
        },
        "outputId": "fbc762f7-5ebe-48ac-c963-233a6a423fd6",
        "id": "atnVUemIQ66z"
      },
      "execution_count": null,
      "outputs": [
        {
          "output_type": "stream",
          "name": "stdout",
          "text": [
            "--> Data Mahasiswa <--\n",
            "Nama\t\t= Zahra Nibras Hanilatifa\n",
            "Kelas\t\t= 01\n",
            "Tanggal Lahir\t= 12 April\n",
            "No. HP\t\t= 08988719023\n",
            "Alamat\t\t= Saragan 01/08 Banyurojo, Mertoyudan\n",
            "Hobi\t\t=\n",
            "\t\t  1. masak\n",
            "\t\t  2. mendengarkan musik\n"
          ]
        }
      ]
    }
  ]
}