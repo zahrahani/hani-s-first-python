{
  "nbformat": 4,
  "nbformat_minor": 0,
  "metadata": {
    "colab": {
      "provenance": [],
      "collapsed_sections": [
        "ZXSqA3PiAYMX",
        "VuKkFSQCpRGP",
        "nnDvhOWv6qR-",
        "oPfVycC1WDl4"
      ],
      "authorship_tag": "ABX9TyOsgY/ggkhlB9b5hMLLLiP7",
      "include_colab_link": true
    },
    "kernelspec": {
      "name": "python3",
      "display_name": "Python 3"
    },
    "language_info": {
      "name": "python"
    }
  },
  "cells": [
    {
      "cell_type": "markdown",
      "metadata": {
        "id": "view-in-github",
        "colab_type": "text"
      },
      "source": [
        "<a href=\"https://colab.research.google.com/github/zahrahani/hani-s-first-python/blob/main/Week_10.ipynb\" target=\"_parent\"><img src=\"https://colab.research.google.com/assets/colab-badge.svg\" alt=\"Open In Colab\"/></a>"
      ]
    },
    {
      "cell_type": "markdown",
      "source": [
        "# Function & Recursion"
      ],
      "metadata": {
        "id": "Z90a8T_s7xWN"
      }
    },
    {
      "cell_type": "markdown",
      "source": [
        "## function (fungsi)"
      ],
      "metadata": {
        "id": "ZXSqA3PiAYMX"
      }
    },
    {
      "cell_type": "markdown",
      "source": [
        "1. membuat dan memanggil fungsi"
      ],
      "metadata": {
        "id": "vdpeLTgI7_f_"
      }
    },
    {
      "cell_type": "code",
      "execution_count": null,
      "metadata": {
        "colab": {
          "base_uri": "https://localhost:8080/"
        },
        "id": "RehpHKahjiKA",
        "outputId": "a4cf23f6-38aa-42b6-d9ef-25cb9f9463fb"
      },
      "outputs": [
        {
          "output_type": "stream",
          "name": "stdout",
          "text": [
            "Hello, I am function!\n"
          ]
        }
      ],
      "source": [
        "def my_function():                  # membuat fungsi\n",
        "    print(\"Hello, I am function!\")  # body fungsi\n",
        "\n",
        "my_function()                       # memanggil fungsi"
      ]
    },
    {
      "cell_type": "markdown",
      "source": [
        "2. argument (args)"
      ],
      "metadata": {
        "id": "C_dxaIGQJdNZ"
      }
    },
    {
      "cell_type": "code",
      "source": [
        "# fungsi dengan 1 parameter\n",
        "\n",
        "def my_function(fname):\n",
        "    print(fname + \" Sadbor\")\n",
        "\n",
        "# memanggil fungsi dengan argumen\n",
        "my_function(\"Mamat\")\n",
        "my_function(\"Slamet\")\n",
        "my_function(\"Bambang\")"
      ],
      "metadata": {
        "colab": {
          "base_uri": "https://localhost:8080/"
        },
        "id": "V-j1S4ovlpxJ",
        "outputId": "dedc65ef-8d13-432a-9889-24bd02311a7c"
      },
      "execution_count": 9,
      "outputs": [
        {
          "output_type": "stream",
          "name": "stdout",
          "text": [
            "Mamat Sadbor\n",
            "Slamet Sadbor\n",
            "Bambang Sadbor\n"
          ]
        }
      ]
    },
    {
      "cell_type": "code",
      "source": [
        "# fungsi dengan 2 parameter\n",
        "\n",
        "def my_function(fname, lname):\n",
        "    print(fname + \" \" + lname)\n",
        "\n",
        "# memanggil fungsi dengan 2 argumen\n",
        "my_function(\"Mamat\", \"Sadbor\")\n",
        "my_function(\"Mamat\", \"Selamat\")"
      ],
      "metadata": {
        "colab": {
          "base_uri": "https://localhost:8080/"
        },
        "id": "qTEYiuVTlWil",
        "outputId": "8389643b-aeff-461a-b455-8cc8fd4de2c5"
      },
      "execution_count": 13,
      "outputs": [
        {
          "output_type": "stream",
          "name": "stdout",
          "text": [
            "Mamat Sadbor\n",
            "Mamat Selamat\n"
          ]
        }
      ]
    },
    {
      "cell_type": "markdown",
      "source": [
        "--> arbitrary arguments (*args)"
      ],
      "metadata": {
        "id": "eqk2DVdvAAmj"
      }
    },
    {
      "cell_type": "code",
      "source": [
        "# fungsi\n",
        "# arbitrary args (*args)\n",
        "\n",
        "def my_function(*kids):\n",
        "    print(\"Anak termuda adalah \" + kids[2]) # memanggil & cetak elemen tuple\n",
        "\n",
        "# memanggil fungsi\n",
        "# argument diubah menjadi tuple\n",
        "my_function(\"Mamat\", \"Slamet\", \"Bambang\")"
      ],
      "metadata": {
        "colab": {
          "base_uri": "https://localhost:8080/"
        },
        "id": "n5TQlFIVlruw",
        "outputId": "c76c9765-66df-4bdf-aca0-13d87e1851ea"
      },
      "execution_count": 17,
      "outputs": [
        {
          "output_type": "stream",
          "name": "stdout",
          "text": [
            "Bambang\n"
          ]
        }
      ]
    },
    {
      "cell_type": "markdown",
      "source": [
        "keyword arguments"
      ],
      "metadata": {
        "id": "GwEuL1zTDC3s"
      }
    },
    {
      "cell_type": "code",
      "source": [
        "# fungsi\n",
        "# kwargs\n",
        "\n",
        "def my_function(child3, child2, child1):\n",
        "    print(\"Anak termuda adalah \" + child3)\n",
        "\n",
        "# memanggil fungsi\n",
        "# menulis argument dengan metode parameter = arguments\n",
        "my_function(child1 = \"Mamat\", child2 = \"Slamet\", child3 = \"Bambang\")"
      ],
      "metadata": {
        "colab": {
          "base_uri": "https://localhost:8080/"
        },
        "id": "lpUmzhy0mZu5",
        "outputId": "a6284572-b30e-4d77-90cd-2f222c90e873"
      },
      "execution_count": 16,
      "outputs": [
        {
          "output_type": "stream",
          "name": "stdout",
          "text": [
            "Bambang\n"
          ]
        }
      ]
    },
    {
      "cell_type": "markdown",
      "source": [
        "--> arbitrary keyword arguments (**kwargs)"
      ],
      "metadata": {
        "id": "v1dgbmI6BTDf"
      }
    },
    {
      "cell_type": "code",
      "source": [
        "# fungsi\n",
        "# arbitrary kwargs (**kwargs)\n",
        "\n",
        "def my_function(**kid):\n",
        "    print(\"Nama depan    = \" + kid[\"fname\"]),\n",
        "    print(\"Nama belakang = \" + kid[\"lname\"]),\n",
        "    print(\"Usia          = \" + kid[\"age\"])\n",
        "\n",
        "# memanggil fungsi\n",
        "# menggunakan konsep key=value\n",
        "my_function(fname = \"Slamet\", lname = \"Sadbor\", age = \"9 tahun\")"
      ],
      "metadata": {
        "colab": {
          "base_uri": "https://localhost:8080/"
        },
        "id": "7v7d22YenCEJ",
        "outputId": "892b04e3-de4a-4b71-f9cf-15bf42770343"
      },
      "execution_count": 23,
      "outputs": [
        {
          "output_type": "stream",
          "name": "stdout",
          "text": [
            "Nama depan    = Slamet\n",
            "Nama belakang = Sadbor\n",
            "Usia          = 9 tahun\n"
          ]
        }
      ]
    },
    {
      "cell_type": "markdown",
      "source": [
        "3. default parameter value"
      ],
      "metadata": {
        "id": "ljApyfpTTU6x"
      }
    },
    {
      "cell_type": "code",
      "source": [
        "# fungsi\n",
        "# default parameter value\n",
        "\n",
        "def my_function(negara = \"Indonesia\"):\n",
        "  print(\"Aku dari \" + negara)\n",
        "\n",
        "# pemanggilan fungsi\n",
        "my_function(\"Amerisya Usyara\")\n",
        "my_function(\"Arab\")\n",
        "my_function()\n",
        "my_function(\"Malaysia\")"
      ],
      "metadata": {
        "colab": {
          "base_uri": "https://localhost:8080/"
        },
        "id": "yytsvJXKnjzo",
        "outputId": "35e7d2db-e7ce-42aa-b370-5f7130c5560e"
      },
      "execution_count": 24,
      "outputs": [
        {
          "output_type": "stream",
          "name": "stdout",
          "text": [
            "Aku dari Amerisya Usyara\n",
            "Aku dari Arab\n",
            "Aku dari Indonesia\n",
            "Aku dari Malaysia\n"
          ]
        }
      ]
    },
    {
      "cell_type": "markdown",
      "source": [
        "4. passing a list as an argument"
      ],
      "metadata": {
        "id": "hoPnhxb7Wn4-"
      }
    },
    {
      "cell_type": "code",
      "source": [
        "# fungsi\n",
        "# list sebagai argument\n",
        "\n",
        "def my_function(food): # food = parameter\n",
        "    for x in food:  # di baris ini, 'food' bisa diganti 'mi'\n",
        "        print(x)\n",
        "\n",
        "# list\n",
        "mi = [\"mi ayam\", \"mi jawa\", \"ramen\"]\n",
        "\n",
        "# pemanggilan fungsi\n",
        "# dengan argument mi (yg dimana mi = list)\n",
        "my_function(mi)\n",
        "\n",
        "# output mi"
      ],
      "metadata": {
        "colab": {
          "base_uri": "https://localhost:8080/"
        },
        "id": "CjRiJbUdnt8Q",
        "outputId": "2471a47a-b9cf-466e-fc1a-638fed3704e0"
      },
      "execution_count": 27,
      "outputs": [
        {
          "output_type": "stream",
          "name": "stdout",
          "text": [
            "mi ayam\n",
            "mi jawa\n",
            "ramen\n"
          ]
        }
      ]
    },
    {
      "cell_type": "markdown",
      "source": [
        "5. return"
      ],
      "metadata": {
        "id": "bSi1U7VVarua"
      }
    },
    {
      "cell_type": "code",
      "source": [
        "# fungsi & return\n",
        "\n",
        "def my_function(x):\n",
        "    return 5 * x\n",
        "\n",
        "# pemanggilan fungsi\n",
        "# mencetak hasil\n",
        "print(my_function(1))\n",
        "print(my_function(4))\n",
        "print(my_function(9))"
      ],
      "metadata": {
        "colab": {
          "base_uri": "https://localhost:8080/"
        },
        "id": "thmVEgK_oLZR",
        "outputId": "09212d5d-bb3f-4e90-c301-a442688411c8"
      },
      "execution_count": null,
      "outputs": [
        {
          "output_type": "stream",
          "name": "stdout",
          "text": [
            "5\n",
            "20\n",
            "45\n"
          ]
        }
      ]
    },
    {
      "cell_type": "code",
      "source": [
        "# fungsi & return\n",
        "\n",
        "# fungsi luas persegi\n",
        "def persegi(s):\n",
        "    luas = s * s\n",
        "    return luas\n",
        "\n",
        "# fungsi volume kubus\n",
        "def kubus(s):\n",
        "    volume = persegi(s) * s\n",
        "    return volume\n",
        "\n",
        "# pemanggilan fungsi\n",
        "# mencetak hasil\n",
        "print(\"luas persegi :\", persegi(5))\n",
        "print(\"volume kubus   :\", kubus(5))"
      ],
      "metadata": {
        "colab": {
          "base_uri": "https://localhost:8080/"
        },
        "id": "B7u9IAeJa0-W",
        "outputId": "e6c566b0-a90d-4d15-cfc0-e79acc116f9f"
      },
      "execution_count": 35,
      "outputs": [
        {
          "output_type": "stream",
          "name": "stdout",
          "text": [
            "luas persegi : 25\n",
            "luas kubus   : 125\n"
          ]
        }
      ]
    },
    {
      "cell_type": "markdown",
      "source": [
        "6. pass statement"
      ],
      "metadata": {
        "id": "A3J6U-licLjp"
      }
    },
    {
      "cell_type": "code",
      "source": [
        "# fungsi\n",
        "# pass statement\n",
        "\n",
        "def new_function():\n",
        "    pass"
      ],
      "metadata": {
        "id": "yv-Ct1x0olFJ"
      },
      "execution_count": 36,
      "outputs": []
    },
    {
      "cell_type": "markdown",
      "source": [
        "## recursion"
      ],
      "metadata": {
        "id": "NHzgSZ60fOA3"
      }
    },
    {
      "cell_type": "code",
      "source": [
        "# contoh fungsi rekursif\n",
        "\n",
        "def rekursif():\n",
        "    print(\"hai, aku fungsi rekursif\")\n",
        "    rekursif()\n",
        "rekursif()"
      ],
      "metadata": {
        "id": "1LFVJFdoitEL"
      },
      "execution_count": null,
      "outputs": []
    },
    {
      "cell_type": "code",
      "source": [
        "# fungsi rekursif\n",
        "\n",
        "def tri_recursion(k):\n",
        "    if(k > 0):\n",
        "        result = k + tri_recursion(k - 1) # 1 + 0 # 2 + 1\n",
        "        print(result)\n",
        "    else:\n",
        "        result = 0\n",
        "    return result\n",
        "\n",
        "print(\"Hasil rekursi\")\n",
        "tri_recursion(6)"
      ],
      "metadata": {
        "colab": {
          "base_uri": "https://localhost:8080/"
        },
        "id": "StCxX9z9o2Mz",
        "outputId": "dd941408-2d00-492b-c045-5c23365ec2a5"
      },
      "execution_count": 5,
      "outputs": [
        {
          "output_type": "stream",
          "name": "stdout",
          "text": [
            "Hasil rekursi\n",
            "1\n",
            "3\n",
            "6\n",
            "10\n",
            "15\n",
            "21\n"
          ]
        },
        {
          "output_type": "execute_result",
          "data": {
            "text/plain": [
              "21"
            ]
          },
          "metadata": {},
          "execution_count": 5
        }
      ]
    },
    {
      "cell_type": "markdown",
      "source": [
        "**penjelasan tri recursion**\n",
        "\n",
        "k = 1 >>> result = 1 + tri_recursion(0) = 1 + 0 = 1\n",
        "\n",
        "k = 2 >>> result = 2 + tri_recursion(1) = 2 + 1 = 3\n",
        "\n",
        "k = 3 >>> result = 3 + tri_recursion(2) = 3 + 3 = 6\n",
        "\n",
        "k = 4 >>> result = 4 + tri_recursion(3) = 4 + 6 = 10\n",
        "\n",
        "k = 5 >>> result = 5 + tri_recursion(4) = 5 + 10 = 15\n",
        "\n",
        "k = 6 >>> result = 6 + tri_recursion(5) = 6 + 15 = 21\n",
        "\n",
        "return result >>> 21"
      ],
      "metadata": {
        "id": "aodiD43njxMv"
      }
    },
    {
      "cell_type": "markdown",
      "source": [
        "# Exercise"
      ],
      "metadata": {
        "id": "VuKkFSQCpRGP"
      }
    },
    {
      "cell_type": "markdown",
      "source": [
        "## Weekly Exercise 1"
      ],
      "metadata": {
        "id": "nnDvhOWv6qR-"
      }
    },
    {
      "cell_type": "markdown",
      "source": [
        "1."
      ],
      "metadata": {
        "id": "n1hDwT4-1Kb6"
      }
    },
    {
      "cell_type": "code",
      "source": [
        "# program untuk menghitung faktorial dari suatu bilangan\n",
        "# bilangan didapatkan dari input user\n",
        "\n",
        "# fungsi faktorial rekursif\n",
        "def faktorial(angka):\n",
        "    if angka == 0 or angka == 1:\n",
        "        return 1\n",
        "    else:\n",
        "        return angka * faktorial(angka - 1)\n",
        "\n",
        "# fungsi input & output\n",
        "# untuk menghitung faktorial\n",
        "def hitung_faktorial():\n",
        "    angka = int(input(\"angka : \"))\n",
        "    hasil = faktorial(angka)\n",
        "\n",
        "    if angka < 0:\n",
        "       print(\"gagal! angka harus positif\")\n",
        "    else:\n",
        "       print(f\"hasil dari {angka}! adalah {hasil}\")\n",
        "\n",
        "# memanggil fungsi\n",
        "hitung_faktorial()"
      ],
      "metadata": {
        "colab": {
          "base_uri": "https://localhost:8080/"
        },
        "id": "xwmG-M_hxGCs",
        "outputId": "baacc410-f2d6-473e-d643-22a2b0143868"
      },
      "execution_count": null,
      "outputs": [
        {
          "output_type": "stream",
          "name": "stdout",
          "text": [
            "angka : 5\n",
            "hasil dari 5! adalah 120\n"
          ]
        }
      ]
    },
    {
      "cell_type": "markdown",
      "source": [
        "2."
      ],
      "metadata": {
        "id": "xrPamZAn1MPf"
      }
    },
    {
      "cell_type": "code",
      "source": [
        "# program untuk menghitung faktorial dari suatu bilangan\n",
        "# bilangan didapatkan dari inputan user\n",
        "\n",
        "# program meminta input angka\n",
        "angka = int(input(\"Angka : \"))\n",
        "\n",
        "# fungsi untuk menghitung faktorial\n",
        "def faktorial(angka):\n",
        "    if angka == 0:\n",
        "        return 1\n",
        "    else:\n",
        "        return angka * faktorial(angka - 1)\n",
        "\n",
        "# output\n",
        "print(f\"hasil dari {angka}! adalah \" + str(faktorial(angka)))"
      ],
      "metadata": {
        "colab": {
          "base_uri": "https://localhost:8080/"
        },
        "id": "ekJSJ8RPo-EJ",
        "outputId": "2f6b9d55-74ac-4e69-82d8-be8b36750e21"
      },
      "execution_count": null,
      "outputs": [
        {
          "output_type": "stream",
          "name": "stdout",
          "text": [
            "Angka : 3\n",
            "hasil dari 3! adalah 6\n"
          ]
        }
      ]
    },
    {
      "cell_type": "markdown",
      "source": [
        "3."
      ],
      "metadata": {
        "id": "7F1gE-h61NwU"
      }
    },
    {
      "cell_type": "code",
      "source": [
        "# program untuk menghitung faktorial dari suatu bilangan\n",
        "# bilangan didapatkan dari inputan user\n",
        "\n",
        "# fungsi faktorial rekursif\n",
        "def faktorial(angka):\n",
        "    hasil = 1\n",
        "    for i in range(1, angka + 1):\n",
        "        hasil = hasil * i\n",
        "    return hasil\n",
        "\n",
        "# fungsi input & output\n",
        "# untuk menghitung faktorial\n",
        "def main():\n",
        "    angka = int(input(\"Angka : \"))\n",
        "    hasil = faktorial(angka)\n",
        "    print(f\"hasil dari {angka}! adalah {hasil}\")\n",
        "\n",
        "# eksekusi\n",
        "main()"
      ],
      "metadata": {
        "id": "lHtZCYF8ubMb",
        "colab": {
          "base_uri": "https://localhost:8080/"
        },
        "outputId": "8d203d9f-2e94-4055-ba43-7ce0e0dd6140"
      },
      "execution_count": null,
      "outputs": [
        {
          "output_type": "stream",
          "name": "stdout",
          "text": [
            "Angka : 10\n",
            "hasil dari 10! adalah 3628800\n"
          ]
        }
      ]
    },
    {
      "cell_type": "markdown",
      "source": [
        "## Weekly Exercise 2"
      ],
      "metadata": {
        "id": "oPfVycC1WDl4"
      }
    },
    {
      "cell_type": "markdown",
      "source": [
        "1."
      ],
      "metadata": {
        "id": "aeY6MjP8CvkD"
      }
    },
    {
      "cell_type": "code",
      "source": [
        "# program kalkulator luas bangun datar\n",
        "\n",
        "# fungsi untuk mengitung luas bangun datar\n",
        "  # fungsi luas lingkaran\n",
        "def luas_lingkaran(r):\n",
        "    return 3.14 * r * r\n",
        "  # fungsi luas persegi\n",
        "def luas_persegi(s):\n",
        "    return s * s\n",
        "  # fungsi luas segitiga\n",
        "def luas_segitiga(a, t):\n",
        "    return (a * t)/2\n",
        "\n",
        "# menu kalkulator luas bangun datar\n",
        "print(\"\\033[1m----| KALKULATOR LUAS BANGUN DATAR |----\\033[0m\")\n",
        "print()\n",
        "print(\"Penghitungan yang dapat dilakukan:\")\n",
        "print(\"1. Luas Lingkaran\")\n",
        "print(\"2. Luas Persegi\")\n",
        "print(\"3. Luas Segitiga\")\n",
        "print(\"4. Selesai\")\n",
        "print()\n",
        "\n",
        "# fungsi input & output\n",
        "# untuk memilih dan melakukan perhitungan\n",
        "def kalkulator():\n",
        "    pilih = int((input(\"-> Pilih Penghitungan (1/2/3/4): \")))\n",
        "    print()\n",
        "       # base case\n",
        "    if pilih == 4:\n",
        "       print(\"\\033[1mPROGRAM SELESAI\\033[0m\")\n",
        "       print()\n",
        "       return\n",
        "         # recursive part\n",
        "    elif pilih == 1:\n",
        "         r = int(input(\"jari-jari (r): \"))\n",
        "         print(\"luas lingkaran =\", luas_lingkaran(r))\n",
        "         print()\n",
        "         kalkulator()   # recursive call\n",
        "    elif pilih == 2:\n",
        "         s = int(input(\"sisi (s): \"))\n",
        "         print(\"luas persegi =\", luas_persegi(s))\n",
        "         print()\n",
        "         kalkulator()   # recursive call\n",
        "    elif pilih == 3:\n",
        "         a = int(input(\"alas (a)  : \"))\n",
        "         t = int(input(\"tinggi (t): \"))\n",
        "         print(\"luas segitiga =\", luas_segitiga(a, t))\n",
        "         print()\n",
        "         kalkulator()   # recursive call\n",
        "    else:\n",
        "        print(\"\\033[1mINVALID INPUT!\\033[0m\")\n",
        "        print()\n",
        "        kalkulator()    # recursive call\n",
        "\n",
        "# memanggil fungsi\n",
        "# untuk memulai eksekusi program\n",
        "kalkulator()"
      ],
      "metadata": {
        "id": "F1L7vnPA18ld"
      },
      "execution_count": null,
      "outputs": []
    },
    {
      "cell_type": "markdown",
      "source": [
        "2."
      ],
      "metadata": {
        "id": "fNwXGvLTCxBc"
      }
    },
    {
      "cell_type": "code",
      "source": [
        "# program kalkulator luas bangun datar\n",
        "\n",
        "# fungsi untuk mengitung luas bangun datar\n",
        "  # fungsi luas lingkaran\n",
        "def luas_lingkaran(r):\n",
        "    return 3.14 * r * r\n",
        "  # fungsi luas persegi\n",
        "def luas_persegi(s):\n",
        "    return s * s\n",
        "  # fungsi luas segitiga\n",
        "def luas_segitiga(a, t):\n",
        "    return (a * t)/2\n",
        "\n",
        "# fungsi input & output\n",
        "def kalkulator():\n",
        "    print(\"\\033[1m-------| KALKULATOR LUAS |-------\\033[0m\")\n",
        "    print()\n",
        "    print(\"Perhitungan yang dapat dilakukan:\")\n",
        "    print(\"1. Luas Lingkaran\")\n",
        "    print(\"2. Luas Persegi\")\n",
        "    print(\"3. Luas Segitiga\")\n",
        "    print(\"4. Selesai\")\n",
        "    print()\n",
        "\n",
        "    while True:\n",
        "          pilih = int((input(\"-> Pilih Perhitungan (1/2/3/4): \")))\n",
        "          print()\n",
        "\n",
        "          if pilih == 1:\n",
        "             r = int(input(\"jari-jari (r): \"))\n",
        "             print(\"luas lingkaran =\", luas_lingkaran(r))\n",
        "             print()\n",
        "          elif pilih == 2:\n",
        "               s = int(input(\"sisi (s): \"))\n",
        "               print(\"luas persegi =\", luas_persegi(s))\n",
        "               print()\n",
        "          elif pilih == 3:\n",
        "               a = int(input(\"alas (a)  : \"))\n",
        "               t = int(input(\"tinggi (t): \"))\n",
        "               print(\"luas segitiga =\", luas_segitiga(a, t))\n",
        "               print()\n",
        "          elif pilih == 4:\n",
        "               print(\"\\033[1mPROGRAM SELESAI\\033[0m\")\n",
        "               print()\n",
        "               break\n",
        "          else:\n",
        "               print(\"\\033[1mINVALID INPUT!\\033[0m\")\n",
        "               print()\n",
        "\n",
        "# memanggil fungsi\n",
        "# untuk memulai eksekusi program\n",
        "kalkulator()"
      ],
      "metadata": {
        "id": "ajZIExqqSmZp"
      },
      "execution_count": null,
      "outputs": []
    }
  ]
}